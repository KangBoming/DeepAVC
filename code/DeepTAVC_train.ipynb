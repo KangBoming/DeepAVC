{
 "cells": [
  {
   "cell_type": "markdown",
   "metadata": {},
   "source": [
    "### First training stage:  Train CADTI"
   ]
  },
  {
   "cell_type": "code",
   "execution_count": null,
   "metadata": {},
   "outputs": [],
   "source": [
    "import pandas as pd\n",
    "import torch\n",
    "import os\n",
    "from torch.utils.data import random_split\n",
    "from torch.utils.data import Dataset,DataLoader\n",
    "from utils.Func import extract_esm_feature,seq2fasta,extract_cp_feature,filter_invalid_smiles\n",
    "from dgl.data.utils import load_graphs\n",
    "from utils.TAVC_dataset import TAVC_Dataset_Train\n",
    "from utils.collator import Collator_TAVC_Train\n",
    "from utils.TAVC_trainer import TAVC_Trainer\n",
    "from utils.scheduler import PolynomialDecayLR\n",
    "from torch.optim import Adam\n",
    "from torch.nn import  BCEWithLogitsLoss\n",
    "from utils.model.KPGT_v2 import *\n",
    "from utils.model.DeepAVC import *\n",
    "from utils.featurizer import Vocab, N_ATOM_TYPES, N_BOND_TYPES,VIRTUAL_ATOM_FEATURE_PLACEHOLDER, VIRTUAL_BOND_FEATURE_PLACEHOLDER"
   ]
  },
  {
   "cell_type": "code",
   "execution_count": 40,
   "metadata": {},
   "outputs": [],
   "source": [
    "args = {\n",
    "    'config':'base',\n",
    "    'd_fps': 512,\n",
    "    'd_mds': 200,\n",
    "    'dropout':0,\n",
    "    'weight_decay':1e-6,\n",
    "    'n_tasks':1,\n",
    "    'lr': 1e-4,\n",
    "    'kpgt_model_path':'/home2/kangboming/kangboming/workspace2/AVC_paper/github/pretrained_model/KPGT/KPGT.pth',\n",
    "    'cp_feature_dir': '/home2/kangboming/kangboming/workspace2/AVC_paper/github/data/DeepTAVC/CPI_dataset/demo/cp_feature',\n",
    "    'pro_feature_dir': '/home2/kangboming/kangboming/workspace2/AVC_paper/github/data/DeepTAVC/CPI_dataset/demo/pro_feature',\n",
    "    'CADTI_model_path': '/home2/kangboming/kangboming/workspace2/AVC_paper/github/pretrained_model/DeepAVC/CADTI.pt',\n",
    "    'n_epochs':20, \n",
    "    'device':'cuda:3',\n",
    "    'random_seed': 42,\n",
    "    'batch_size':32,\n",
    "    'train_ratio': 0.8,\n",
    "    'val_ratio': 0.1,\n",
    "    'test_ratio':0.1,\n",
    "    'MLP_layer_num':2,\n",
    "    'MLP_hidden_dim':256}\n",
    "vocab = Vocab(N_ATOM_TYPES, N_BOND_TYPES)"
   ]
  },
  {
   "cell_type": "code",
   "execution_count": 3,
   "metadata": {},
   "outputs": [],
   "source": [
    "# load CPI dataset\n",
    "CPI_dataset = pd.read_pickle('/home2/kangboming/kangboming/workspace2/AVC_paper/data/T_AVC/cpi_data/cpi_dataset.pkl')"
   ]
  },
  {
   "cell_type": "code",
   "execution_count": 4,
   "metadata": {},
   "outputs": [],
   "source": [
    "CPI_dataset_demo = CPI_dataset.sample(2000)"
   ]
  },
  {
   "cell_type": "code",
   "execution_count": null,
   "metadata": {},
   "outputs": [],
   "source": [
    "# Extract compound initial feature by RDKit(if necessary)\n",
    "smiles_list = CPI_dataset_demo['SMILES'].to_list()\n",
    "# filter compound with invalid smiles \n",
    "valid_smiles, invalid_smiles = filter_invalid_smiles(smiles_list)\n",
    "extract_cp_feature(smiles_list = valid_smiles, \n",
    "                   output_dir = args['cp_feature_dir'],\n",
    "                   num_workers=32)"
   ]
  },
  {
   "cell_type": "code",
   "execution_count": null,
   "metadata": {},
   "outputs": [],
   "source": [
    "# Extract protein initial feature by ESM-2 (if necessary)\n",
    "pro_seq_list = list(CPI_dataset_demo['sequence'].unique())\n",
    "# Transform protein sequences into the fasta format\n",
    "seq2fasta(seq_list=pro_seq_list, \n",
    "          save_dir=args['pro_feature_dir'])\n",
    "\n",
    "extract_esm_feature(\n",
    "    model_location = '/home2/kangboming/kangboming/workspace2/AVC_paper/github/pretrained_model/ESM/esm2_t33_650M_UR50D.pt',\n",
    "    fasta_file = os.path.join(args['pro_feature_dir'], 'target_seq.fasta'),\n",
    "    output_dir = args['pro_feature_dir'],\n",
    "    toks_per_batch = 10000,\n",
    "    repr_layers = [-1],\n",
    "    include=['per_tok'],\n",
    "    device='cuda:3',\n",
    "    truncation_seq_length = 1024)"
   ]
  },
  {
   "cell_type": "code",
   "execution_count": 7,
   "metadata": {},
   "outputs": [],
   "source": [
    "target_id_list = [ f'Target_{i+1}' for i in range(len(CPI_dataset_demo['sequence'].unique()))]"
   ]
  },
  {
   "cell_type": "code",
   "execution_count": 8,
   "metadata": {},
   "outputs": [],
   "source": [
    "seq2id_dict = dict(zip( CPI_dataset_demo['sequence'].unique(),target_id_list))"
   ]
  },
  {
   "cell_type": "code",
   "execution_count": 9,
   "metadata": {},
   "outputs": [],
   "source": [
    "CPI_dataset_demo['target_idx'] = CPI_dataset['sequence'].map(seq2id_dict)"
   ]
  },
  {
   "cell_type": "code",
   "execution_count": 10,
   "metadata": {},
   "outputs": [],
   "source": [
    "### load compound initial feature\n",
    "graphs, label_dict = load_graphs(os.path.join(args['cp_feature_dir'], 'cp_graphs.pkl'))\n",
    "fps = torch.load(os.path.join(args['cp_feature_dir'], 'cp_fps.pt'))\n",
    "mds = torch.load(os.path.join(args['cp_feature_dir'], 'cp_mds.pt'))"
   ]
  },
  {
   "cell_type": "code",
   "execution_count": 11,
   "metadata": {},
   "outputs": [],
   "source": [
    "assert len(graphs) == len(fps) == len(mds)"
   ]
  },
  {
   "cell_type": "code",
   "execution_count": 12,
   "metadata": {},
   "outputs": [],
   "source": [
    "### load protein initial feature\n",
    "pro_feature_dict = torch.load(os.path.join(args['pro_feature_dir'],'esm_feature.pt'),map_location=args['device'])"
   ]
  },
  {
   "cell_type": "code",
   "execution_count": 13,
   "metadata": {},
   "outputs": [],
   "source": [
    "# Build dataset\n",
    "CPI_dataset = TAVC_Dataset_Train(smiles_list = CPI_dataset_demo['SMILES'].to_list(),\n",
    "                          target_seq_list=CPI_dataset_demo['target_idx'].to_list(),\n",
    "                          target_feature_dict=pro_feature_dict,\n",
    "                          label_list=CPI_dataset_demo['label'].to_list(),\n",
    "                          graphs=graphs,\n",
    "                          fps=fps,\n",
    "                          mds=mds)"
   ]
  },
  {
   "cell_type": "code",
   "execution_count": null,
   "metadata": {},
   "outputs": [],
   "source": [
    "### data split\n",
    "train_ratio = args['train_ratio']\n",
    "val_ratio = args['val_ratio']\n",
    "dataset_size = len(CPI_dataset)\n",
    "train_size = int(train_ratio * dataset_size) \n",
    "val_size = int(val_ratio * dataset_size)   \n",
    "test_size = dataset_size - train_size - val_size \n",
    "\n",
    "torch.manual_seed(42)\n",
    "train_dataset, val_dataset, test_dataset = random_split(CPI_dataset, [train_size, val_size, test_size])\n",
    "print(f'Train size:{len(train_dataset)}\\nValidation size:{len(val_dataset)}\\nTest size:{len(test_dataset)}')\n",
    "\n",
    "### build dataloader \n",
    "config = config_dict[args['config']]\n",
    "collator = Collator_TAVC_Train(config['path_length'])\n",
    "\n",
    "train_loader = DataLoader(train_dataset, \n",
    "                          batch_size=args['batch_size'], \n",
    "                          shuffle=True,  \n",
    "                          drop_last=False, \n",
    "                          collate_fn=collator)\n",
    "val_loader = DataLoader(val_dataset, batch_size=args['batch_size'], \n",
    "                        shuffle=False,\n",
    "                          drop_last=False, \n",
    "                          collate_fn=collator)\n",
    "test_loader = DataLoader(test_dataset, batch_size=args['batch_size'], \n",
    "                         shuffle=False,  \n",
    "                         drop_last=False, \n",
    "                         collate_fn=collator)\n"
   ]
  },
  {
   "cell_type": "code",
   "execution_count": 15,
   "metadata": {},
   "outputs": [],
   "source": [
    "kpgt_model = LiGhTPredictor(\n",
    "    d_node_feats=config['d_node_feats'],\n",
    "    d_edge_feats=config['d_edge_feats'],\n",
    "    d_g_feats=config['d_g_feats'],\n",
    "    d_fp_feats=args['d_fps'],\n",
    "    d_md_feats=args['d_mds'],\n",
    "    d_hpath_ratio=config['d_hpath_ratio'],\n",
    "    n_mol_layers=config['n_mol_layers'],\n",
    "    path_length=config['path_length'],\n",
    "    n_heads=config['n_heads'],\n",
    "    n_ffn_dense_layers=config['n_ffn_dense_layers'],\n",
    "    input_drop=0,\n",
    "    attn_drop=args['dropout'],\n",
    "    feat_drop=args['dropout'],\n",
    "    n_node_types=vocab.vocab_size).to(args['device'])"
   ]
  },
  {
   "cell_type": "code",
   "execution_count": 16,
   "metadata": {},
   "outputs": [],
   "source": [
    "### 加载预训练权重\n",
    "kpgt_model.load_state_dict({k.replace('module.',''):v for k,v in torch.load(args['kpgt_model_path'],map_location=args['device']).items()})\n",
    "# 删除没用的模型结构\n",
    "del kpgt_model.md_predictor\n",
    "del kpgt_model.fp_predictor\n",
    "del kpgt_model.node_predictor"
   ]
  },
  {
   "cell_type": "code",
   "execution_count": 17,
   "metadata": {},
   "outputs": [],
   "source": [
    "### Model Initialization\n",
    "CADTI_model = CADTI_Finetune(\n",
    "d_model=256,\n",
    "n_heads=8,\n",
    "num_layers=1,\n",
    "kpgt_model=kpgt_model,\n",
    "smiles_dim=768,\n",
    "protein_dim=1280,\n",
    "kpgt_features_dim=2304,\n",
    "mlp_hidden_dim=256,\n",
    "num_classes=1,\n",
    "dropout=0,\n",
    "return_attn=True).to(args['device'])"
   ]
  },
  {
   "cell_type": "code",
   "execution_count": null,
   "metadata": {},
   "outputs": [],
   "source": [
    "print(\"model have {}M parameters in total that require gradients\".format(\n",
    "sum(p.numel() for p in CADTI_model.parameters() if p.requires_grad) / 1e6))"
   ]
  },
  {
   "cell_type": "code",
   "execution_count": 19,
   "metadata": {},
   "outputs": [],
   "source": [
    "optimizer = Adam(CADTI_model.parameters(), lr=args['lr'], weight_decay=args['weight_decay'])\n",
    "lr_scheduler = PolynomialDecayLR(optimizer, \n",
    "                                warmup_updates=args['n_epochs']*(len(train_loader))//100, \n",
    "                                tot_updates=args['n_epochs']*len(train_loader),\n",
    "                                lr=args['lr'], \n",
    "                                end_lr=1e-5, \n",
    "                                power=1)\n",
    "\n",
    "loss_fn = BCEWithLogitsLoss(reduction='mean')"
   ]
  },
  {
   "cell_type": "code",
   "execution_count": 20,
   "metadata": {},
   "outputs": [],
   "source": [
    "trainer = TAVC_Trainer(args=args, \n",
    "                        optimizer=optimizer,\n",
    "                    lr_scheduler=lr_scheduler,\n",
    "                    loss_fn=loss_fn,\n",
    "                    device=args['device'],\n",
    "                    model_name='CADTI')"
   ]
  },
  {
   "cell_type": "code",
   "execution_count": null,
   "metadata": {},
   "outputs": [],
   "source": [
    "performance_res_df = trainer.fit(model=CADTI_model,\n",
    "                    train_loader=train_loader,\n",
    "                    val_loader=val_loader)"
   ]
  },
  {
   "cell_type": "code",
   "execution_count": 22,
   "metadata": {},
   "outputs": [
    {
     "data": {
      "text/html": [
       "<div>\n",
       "<style scoped>\n",
       "    .dataframe tbody tr th:only-of-type {\n",
       "        vertical-align: middle;\n",
       "    }\n",
       "\n",
       "    .dataframe tbody tr th {\n",
       "        vertical-align: top;\n",
       "    }\n",
       "\n",
       "    .dataframe thead th {\n",
       "        text-align: right;\n",
       "    }\n",
       "</style>\n",
       "<table border=\"1\" class=\"dataframe\">\n",
       "  <thead>\n",
       "    <tr style=\"text-align: right;\">\n",
       "      <th></th>\n",
       "      <th>acc</th>\n",
       "      <th>recall</th>\n",
       "      <th>prec</th>\n",
       "      <th>f1</th>\n",
       "      <th>auroc</th>\n",
       "      <th>auprc</th>\n",
       "      <th>epoch</th>\n",
       "      <th>set</th>\n",
       "    </tr>\n",
       "  </thead>\n",
       "  <tbody>\n",
       "    <tr>\n",
       "      <th>0</th>\n",
       "      <td>0.475</td>\n",
       "      <td>0.892473</td>\n",
       "      <td>0.466292</td>\n",
       "      <td>0.612546</td>\n",
       "      <td>0.579138</td>\n",
       "      <td>0.558452</td>\n",
       "      <td>1</td>\n",
       "      <td>val</td>\n",
       "    </tr>\n",
       "    <tr>\n",
       "      <th>1</th>\n",
       "      <td>0.460</td>\n",
       "      <td>0.559140</td>\n",
       "      <td>0.436975</td>\n",
       "      <td>0.490566</td>\n",
       "      <td>0.455834</td>\n",
       "      <td>0.461419</td>\n",
       "      <td>2</td>\n",
       "      <td>val</td>\n",
       "    </tr>\n",
       "    <tr>\n",
       "      <th>2</th>\n",
       "      <td>0.515</td>\n",
       "      <td>0.258065</td>\n",
       "      <td>0.461538</td>\n",
       "      <td>0.331034</td>\n",
       "      <td>0.496433</td>\n",
       "      <td>0.484353</td>\n",
       "      <td>3</td>\n",
       "      <td>val</td>\n",
       "    </tr>\n",
       "    <tr>\n",
       "      <th>3</th>\n",
       "      <td>0.500</td>\n",
       "      <td>0.591398</td>\n",
       "      <td>0.470085</td>\n",
       "      <td>0.523810</td>\n",
       "      <td>0.500553</td>\n",
       "      <td>0.455568</td>\n",
       "      <td>4</td>\n",
       "      <td>val</td>\n",
       "    </tr>\n",
       "    <tr>\n",
       "      <th>4</th>\n",
       "      <td>0.545</td>\n",
       "      <td>0.580645</td>\n",
       "      <td>0.509434</td>\n",
       "      <td>0.542714</td>\n",
       "      <td>0.559240</td>\n",
       "      <td>0.491858</td>\n",
       "      <td>5</td>\n",
       "      <td>val</td>\n",
       "    </tr>\n",
       "    <tr>\n",
       "      <th>5</th>\n",
       "      <td>0.555</td>\n",
       "      <td>0.612903</td>\n",
       "      <td>0.518182</td>\n",
       "      <td>0.561576</td>\n",
       "      <td>0.553311</td>\n",
       "      <td>0.492143</td>\n",
       "      <td>6</td>\n",
       "      <td>val</td>\n",
       "    </tr>\n",
       "    <tr>\n",
       "      <th>6</th>\n",
       "      <td>0.540</td>\n",
       "      <td>0.537634</td>\n",
       "      <td>0.505051</td>\n",
       "      <td>0.520833</td>\n",
       "      <td>0.554216</td>\n",
       "      <td>0.501016</td>\n",
       "      <td>7</td>\n",
       "      <td>val</td>\n",
       "    </tr>\n",
       "    <tr>\n",
       "      <th>7</th>\n",
       "      <td>0.505</td>\n",
       "      <td>0.451613</td>\n",
       "      <td>0.466667</td>\n",
       "      <td>0.459016</td>\n",
       "      <td>0.530901</td>\n",
       "      <td>0.475482</td>\n",
       "      <td>8</td>\n",
       "      <td>val</td>\n",
       "    </tr>\n",
       "    <tr>\n",
       "      <th>8</th>\n",
       "      <td>0.495</td>\n",
       "      <td>0.462366</td>\n",
       "      <td>0.457447</td>\n",
       "      <td>0.459893</td>\n",
       "      <td>0.534218</td>\n",
       "      <td>0.499018</td>\n",
       "      <td>9</td>\n",
       "      <td>val</td>\n",
       "    </tr>\n",
       "    <tr>\n",
       "      <th>9</th>\n",
       "      <td>0.500</td>\n",
       "      <td>0.419355</td>\n",
       "      <td>0.458824</td>\n",
       "      <td>0.438202</td>\n",
       "      <td>0.534017</td>\n",
       "      <td>0.498821</td>\n",
       "      <td>10</td>\n",
       "      <td>val</td>\n",
       "    </tr>\n",
       "    <tr>\n",
       "      <th>10</th>\n",
       "      <td>0.500</td>\n",
       "      <td>0.483871</td>\n",
       "      <td>0.463918</td>\n",
       "      <td>0.473684</td>\n",
       "      <td>0.532107</td>\n",
       "      <td>0.493305</td>\n",
       "      <td>11</td>\n",
       "      <td>val</td>\n",
       "    </tr>\n",
       "    <tr>\n",
       "      <th>11</th>\n",
       "      <td>0.495</td>\n",
       "      <td>0.473118</td>\n",
       "      <td>0.458333</td>\n",
       "      <td>0.465608</td>\n",
       "      <td>0.531404</td>\n",
       "      <td>0.491743</td>\n",
       "      <td>12</td>\n",
       "      <td>val</td>\n",
       "    </tr>\n",
       "    <tr>\n",
       "      <th>12</th>\n",
       "      <td>0.495</td>\n",
       "      <td>0.473118</td>\n",
       "      <td>0.458333</td>\n",
       "      <td>0.465608</td>\n",
       "      <td>0.530399</td>\n",
       "      <td>0.492129</td>\n",
       "      <td>13</td>\n",
       "      <td>val</td>\n",
       "    </tr>\n",
       "    <tr>\n",
       "      <th>13</th>\n",
       "      <td>0.495</td>\n",
       "      <td>0.473118</td>\n",
       "      <td>0.458333</td>\n",
       "      <td>0.465608</td>\n",
       "      <td>0.531404</td>\n",
       "      <td>0.494121</td>\n",
       "      <td>14</td>\n",
       "      <td>val</td>\n",
       "    </tr>\n",
       "    <tr>\n",
       "      <th>14</th>\n",
       "      <td>0.495</td>\n",
       "      <td>0.473118</td>\n",
       "      <td>0.458333</td>\n",
       "      <td>0.465608</td>\n",
       "      <td>0.531906</td>\n",
       "      <td>0.493066</td>\n",
       "      <td>15</td>\n",
       "      <td>val</td>\n",
       "    </tr>\n",
       "    <tr>\n",
       "      <th>15</th>\n",
       "      <td>0.495</td>\n",
       "      <td>0.473118</td>\n",
       "      <td>0.458333</td>\n",
       "      <td>0.465608</td>\n",
       "      <td>0.531253</td>\n",
       "      <td>0.488101</td>\n",
       "      <td>16</td>\n",
       "      <td>val</td>\n",
       "    </tr>\n",
       "    <tr>\n",
       "      <th>16</th>\n",
       "      <td>0.495</td>\n",
       "      <td>0.473118</td>\n",
       "      <td>0.458333</td>\n",
       "      <td>0.465608</td>\n",
       "      <td>0.532861</td>\n",
       "      <td>0.488840</td>\n",
       "      <td>17</td>\n",
       "      <td>val</td>\n",
       "    </tr>\n",
       "    <tr>\n",
       "      <th>17</th>\n",
       "      <td>0.495</td>\n",
       "      <td>0.473118</td>\n",
       "      <td>0.458333</td>\n",
       "      <td>0.465608</td>\n",
       "      <td>0.533313</td>\n",
       "      <td>0.490730</td>\n",
       "      <td>18</td>\n",
       "      <td>val</td>\n",
       "    </tr>\n",
       "    <tr>\n",
       "      <th>18</th>\n",
       "      <td>0.495</td>\n",
       "      <td>0.473118</td>\n",
       "      <td>0.458333</td>\n",
       "      <td>0.465608</td>\n",
       "      <td>0.533615</td>\n",
       "      <td>0.491130</td>\n",
       "      <td>19</td>\n",
       "      <td>val</td>\n",
       "    </tr>\n",
       "    <tr>\n",
       "      <th>19</th>\n",
       "      <td>0.495</td>\n",
       "      <td>0.473118</td>\n",
       "      <td>0.458333</td>\n",
       "      <td>0.465608</td>\n",
       "      <td>0.533665</td>\n",
       "      <td>0.489644</td>\n",
       "      <td>20</td>\n",
       "      <td>val</td>\n",
       "    </tr>\n",
       "  </tbody>\n",
       "</table>\n",
       "</div>"
      ],
      "text/plain": [
       "      acc    recall      prec        f1     auroc     auprc  epoch  set\n",
       "0   0.475  0.892473  0.466292  0.612546  0.579138  0.558452      1  val\n",
       "1   0.460  0.559140  0.436975  0.490566  0.455834  0.461419      2  val\n",
       "2   0.515  0.258065  0.461538  0.331034  0.496433  0.484353      3  val\n",
       "3   0.500  0.591398  0.470085  0.523810  0.500553  0.455568      4  val\n",
       "4   0.545  0.580645  0.509434  0.542714  0.559240  0.491858      5  val\n",
       "5   0.555  0.612903  0.518182  0.561576  0.553311  0.492143      6  val\n",
       "6   0.540  0.537634  0.505051  0.520833  0.554216  0.501016      7  val\n",
       "7   0.505  0.451613  0.466667  0.459016  0.530901  0.475482      8  val\n",
       "8   0.495  0.462366  0.457447  0.459893  0.534218  0.499018      9  val\n",
       "9   0.500  0.419355  0.458824  0.438202  0.534017  0.498821     10  val\n",
       "10  0.500  0.483871  0.463918  0.473684  0.532107  0.493305     11  val\n",
       "11  0.495  0.473118  0.458333  0.465608  0.531404  0.491743     12  val\n",
       "12  0.495  0.473118  0.458333  0.465608  0.530399  0.492129     13  val\n",
       "13  0.495  0.473118  0.458333  0.465608  0.531404  0.494121     14  val\n",
       "14  0.495  0.473118  0.458333  0.465608  0.531906  0.493066     15  val\n",
       "15  0.495  0.473118  0.458333  0.465608  0.531253  0.488101     16  val\n",
       "16  0.495  0.473118  0.458333  0.465608  0.532861  0.488840     17  val\n",
       "17  0.495  0.473118  0.458333  0.465608  0.533313  0.490730     18  val\n",
       "18  0.495  0.473118  0.458333  0.465608  0.533615  0.491130     19  val\n",
       "19  0.495  0.473118  0.458333  0.465608  0.533665  0.489644     20  val"
      ]
     },
     "execution_count": 22,
     "metadata": {},
     "output_type": "execute_result"
    }
   ],
   "source": [
    "performance_res_df"
   ]
  },
  {
   "cell_type": "code",
   "execution_count": null,
   "metadata": {},
   "outputs": [],
   "source": []
  },
  {
   "cell_type": "markdown",
   "metadata": {},
   "source": [
    "### Second training stage: Train DeepTAVC"
   ]
  },
  {
   "cell_type": "code",
   "execution_count": 25,
   "metadata": {},
   "outputs": [],
   "source": [
    "args = {\n",
    "    'config':'base',\n",
    "    'd_fps': 512,\n",
    "    'd_mds': 200,\n",
    "    'dropout':0,\n",
    "    'weight_decay':1e-6,\n",
    "    'n_tasks':1,\n",
    "    'lr': 1e-4,\n",
    "    'kpgt_model_path':'/home2/kangboming/kangboming/workspace2/AVC_paper/github/pretrained_model/KPGT/KPGT.pth',\n",
    "    'cp_feature_dir': '/home2/kangboming/kangboming/workspace2/AVC_paper/github/data/DeepTAVC/TAVC_dataset/cp_feature',\n",
    "    'pro_feature_dir': '/home2/kangboming/kangboming/workspace2/AVC_paper/github/data/DeepTAVC/TAVC_dataset/pro_feature',\n",
    "    'n_epochs':20, \n",
    "    'device':'cuda:3',\n",
    "    'random_seed': 42,\n",
    "    'batch_size':32,\n",
    "    'train_ratio': 0.8,\n",
    "    'val_ratio': 0.1,\n",
    "    'test_ratio':0.1,\n",
    "    'MLP_layer_num':2,\n",
    "    'MLP_hidden_dim':256}"
   ]
  },
  {
   "cell_type": "code",
   "execution_count": 23,
   "metadata": {},
   "outputs": [],
   "source": [
    "TAVC_data = pd.read_csv('/home2/kangboming/kangboming/workspace2/AVC_paper/github/data/DeepTAVC/TAVC_dataset/DeepTAVC_dataset.csv')"
   ]
  },
  {
   "cell_type": "code",
   "execution_count": 24,
   "metadata": {},
   "outputs": [
    {
     "data": {
      "text/html": [
       "<div>\n",
       "<style scoped>\n",
       "    .dataframe tbody tr th:only-of-type {\n",
       "        vertical-align: middle;\n",
       "    }\n",
       "\n",
       "    .dataframe tbody tr th {\n",
       "        vertical-align: top;\n",
       "    }\n",
       "\n",
       "    .dataframe thead th {\n",
       "        text-align: right;\n",
       "    }\n",
       "</style>\n",
       "<table border=\"1\" class=\"dataframe\">\n",
       "  <thead>\n",
       "    <tr style=\"text-align: right;\">\n",
       "      <th></th>\n",
       "      <th>canonical_smiles</th>\n",
       "      <th>sequence</th>\n",
       "      <th>pchembl_value</th>\n",
       "      <th>avd_label</th>\n",
       "    </tr>\n",
       "  </thead>\n",
       "  <tbody>\n",
       "    <tr>\n",
       "      <th>0</th>\n",
       "      <td>B.CP(c1ccccc1)c1ccc(O)cc1</td>\n",
       "      <td>MTMTLHTKASGMALLHQIQGNELEPLNRPQLKIPLERPLGEVYLDS...</td>\n",
       "      <td>5.0100</td>\n",
       "      <td>0</td>\n",
       "    </tr>\n",
       "    <tr>\n",
       "      <th>1</th>\n",
       "      <td>B.Oc1ccc(P(c2ccccc2)c2ccccc2)cc1</td>\n",
       "      <td>MTMTLHTKASGMALLHQIQGNELEPLNRPQLKIPLERPLGEVYLDS...</td>\n",
       "      <td>4.9200</td>\n",
       "      <td>0</td>\n",
       "    </tr>\n",
       "    <tr>\n",
       "      <th>2</th>\n",
       "      <td>BP(=O)(COCCn1cnc2c(N)ncnc21)OP(=O)(O)OP(=O)(O)O</td>\n",
       "      <td>PISPIETVPVKLKPGMDGPKVKQWPLTEEKIKALVEICTEMEKEGK...</td>\n",
       "      <td>5.0075</td>\n",
       "      <td>0</td>\n",
       "    </tr>\n",
       "    <tr>\n",
       "      <th>3</th>\n",
       "      <td>BP(=O)(CO[C@H](C)Cn1cnc2c(N)ncnc21)OP(=O)(O)OP...</td>\n",
       "      <td>PISPIETVPVKLKPGMDGPKVKQWPLTEEKIKALVEICTEMEKEGK...</td>\n",
       "      <td>4.6325</td>\n",
       "      <td>0</td>\n",
       "    </tr>\n",
       "    <tr>\n",
       "      <th>4</th>\n",
       "      <td>BP(=O)(OC[C@@H]1C=C[C@H](n2cc(C)c(=O)[nH]c2=O)...</td>\n",
       "      <td>PISPIETVPVKLKPGMDGPKVKQWPLTEEKIKALVEICTEMEKEGK...</td>\n",
       "      <td>7.3500</td>\n",
       "      <td>1</td>\n",
       "    </tr>\n",
       "  </tbody>\n",
       "</table>\n",
       "</div>"
      ],
      "text/plain": [
       "                                    canonical_smiles  \\\n",
       "0                          B.CP(c1ccccc1)c1ccc(O)cc1   \n",
       "1                   B.Oc1ccc(P(c2ccccc2)c2ccccc2)cc1   \n",
       "2    BP(=O)(COCCn1cnc2c(N)ncnc21)OP(=O)(O)OP(=O)(O)O   \n",
       "3  BP(=O)(CO[C@H](C)Cn1cnc2c(N)ncnc21)OP(=O)(O)OP...   \n",
       "4  BP(=O)(OC[C@@H]1C=C[C@H](n2cc(C)c(=O)[nH]c2=O)...   \n",
       "\n",
       "                                            sequence  pchembl_value  avd_label  \n",
       "0  MTMTLHTKASGMALLHQIQGNELEPLNRPQLKIPLERPLGEVYLDS...         5.0100          0  \n",
       "1  MTMTLHTKASGMALLHQIQGNELEPLNRPQLKIPLERPLGEVYLDS...         4.9200          0  \n",
       "2  PISPIETVPVKLKPGMDGPKVKQWPLTEEKIKALVEICTEMEKEGK...         5.0075          0  \n",
       "3  PISPIETVPVKLKPGMDGPKVKQWPLTEEKIKALVEICTEMEKEGK...         4.6325          0  \n",
       "4  PISPIETVPVKLKPGMDGPKVKQWPLTEEKIKALVEICTEMEKEGK...         7.3500          1  "
      ]
     },
     "execution_count": 24,
     "metadata": {},
     "output_type": "execute_result"
    }
   ],
   "source": [
    "TAVC_data.head()"
   ]
  },
  {
   "cell_type": "code",
   "execution_count": 26,
   "metadata": {},
   "outputs": [],
   "source": [
    "TAVC_dataset_demo = TAVC_data.sample(2000)"
   ]
  },
  {
   "cell_type": "code",
   "execution_count": 28,
   "metadata": {},
   "outputs": [
    {
     "name": "stderr",
     "output_type": "stream",
     "text": [
      "100%|██████████| 2000/2000 [00:00<00:00, 5777.07it/s]"
     ]
    },
    {
     "name": "stdout",
     "output_type": "stream",
     "text": [
      "extracting graphs\n"
     ]
    },
    {
     "name": "stderr",
     "output_type": "stream",
     "text": [
      "\n",
      "[Parallel(n_jobs=32)]: Using backend LokyBackend with 32 concurrent workers.\n",
      "Using backend: pytorch\n",
      "Using backend: pytorch\n",
      "Using backend: pytorch\n",
      "[Parallel(n_jobs=32)]: Done 171 tasks      | elapsed:    7.2s\n",
      "Using backend: pytorch\n",
      "Using backend: pytorch\n",
      "Using backend: pytorch\n",
      "Using backend: pytorchUsing backend: pytorchUsing backend: pytorch\n",
      "\n",
      "\n",
      "Using backend: pytorchUsing backend: pytorch\n",
      "\n",
      "Using backend: pytorch\n",
      "Using backend: pytorch\n",
      "Using backend: pytorchUsing backend: pytorch\n",
      "\n",
      "[Parallel(n_jobs=32)]: Done 1657 tasks      | elapsed:   10.3s\n",
      "[Parallel(n_jobs=32)]: Done 1937 out of 2000 | elapsed:   10.9s remaining:    0.4s\n",
      "Using backend: pytorch\n",
      "Using backend: pytorch\n",
      "Using backend: pytorch\n",
      "Using backend: pytorchUsing backend: pytorch\n",
      "\n",
      "Using backend: pytorch\n",
      "Using backend: pytorch\n",
      "Using backend: pytorch\n",
      "Using backend: pytorch\n",
      "Using backend: pytorchUsing backend: pytorchUsing backend: pytorchUsing backend: pytorch\n",
      "\n",
      "\n",
      "\n",
      "Using backend: pytorch\n",
      "Using backend: pytorch\n",
      "Using backend: pytorch\n",
      "Using backend: pytorch\n",
      "[Parallel(n_jobs=32)]: Done 2000 out of 2000 | elapsed:   26.5s finished\n"
     ]
    },
    {
     "name": "stdout",
     "output_type": "stream",
     "text": [
      "extracting fingerprints\n",
      "extracting molecular descriptors\n"
     ]
    },
    {
     "data": {
      "text/plain": [
       "'Done!'"
      ]
     },
     "execution_count": 28,
     "metadata": {},
     "output_type": "execute_result"
    }
   ],
   "source": [
    "# Extract compound initial feature by RDKit(if necessary)\n",
    "smiles_list = TAVC_dataset_demo['canonical_smiles'].to_list()\n",
    "# filter compound with invalid smiles \n",
    "valid_smiles, invalid_smiles = filter_invalid_smiles(smiles_list)\n",
    "extract_cp_feature(smiles_list = valid_smiles, \n",
    "                   output_dir = args['cp_feature_dir'],\n",
    "                   num_workers=32)"
   ]
  },
  {
   "cell_type": "code",
   "execution_count": 29,
   "metadata": {},
   "outputs": [
    {
     "name": "stdout",
     "output_type": "stream",
     "text": [
      "Transferred model to GPUs\n",
      "Read /home2/kangboming/kangboming/workspace2/AVC_paper/github/data/DeepTAVC/TAVC_dataset/pro_feature/target_seq.fasta with 134 sequences\n",
      "Processing 1 of 15 batches (28 sequences)\n",
      "Processing 2 of 15 batches (21 sequences)\n",
      "Processing 3 of 15 batches (17 sequences)\n",
      "Processing 4 of 15 batches (14 sequences)\n",
      "Processing 5 of 15 batches (12 sequences)\n",
      "Processing 6 of 15 batches (10 sequences)\n",
      "Processing 7 of 15 batches (8 sequences)\n",
      "Processing 8 of 15 batches (7 sequences)\n",
      "Processing 9 of 15 batches (5 sequences)\n",
      "Processing 10 of 15 batches (3 sequences)\n",
      "Processing 11 of 15 batches (3 sequences)\n",
      "Processing 12 of 15 batches (2 sequences)\n",
      "Processing 13 of 15 batches (2 sequences)\n",
      "Processing 14 of 15 batches (1 sequences)\n",
      "Processing 15 of 15 batches (1 sequences)\n"
     ]
    },
    {
     "data": {
      "text/plain": [
       "'Done!'"
      ]
     },
     "execution_count": 29,
     "metadata": {},
     "output_type": "execute_result"
    }
   ],
   "source": [
    "# Extract protein initial feature by ESM-2 (if necessary)\n",
    "pro_seq_list = list(TAVC_dataset_demo['sequence'].unique())\n",
    "# Transform protein sequences into the fasta format\n",
    "seq2fasta(seq_list=pro_seq_list, \n",
    "          save_dir=args['pro_feature_dir'])\n",
    "\n",
    "extract_esm_feature(\n",
    "    model_location = '/home2/kangboming/kangboming/workspace2/AVC_paper/github/pretrained_model/ESM/esm2_t33_650M_UR50D.pt',\n",
    "    fasta_file = os.path.join(args['pro_feature_dir'], 'target_seq.fasta'),\n",
    "    output_dir = args['pro_feature_dir'],\n",
    "    toks_per_batch = 10000,\n",
    "    repr_layers = [-1],\n",
    "    include=['per_tok'],\n",
    "    device='cuda:3',\n",
    "    truncation_seq_length = 1024)"
   ]
  },
  {
   "cell_type": "code",
   "execution_count": 30,
   "metadata": {},
   "outputs": [],
   "source": [
    "target_id_list = [ f'Target_{i+1}' for i in range(len(TAVC_dataset_demo['sequence'].unique()))]\n",
    "seq2id_dict = dict(zip( TAVC_dataset_demo['sequence'].unique(),target_id_list))\n",
    "TAVC_dataset_demo['target_idx'] = TAVC_dataset_demo['sequence'].map(seq2id_dict)"
   ]
  },
  {
   "cell_type": "code",
   "execution_count": 32,
   "metadata": {},
   "outputs": [],
   "source": [
    "### load compound initial feature\n",
    "graphs, label_dict = load_graphs(os.path.join(args['cp_feature_dir'], 'cp_graphs.pkl'))\n",
    "fps = torch.load(os.path.join(args['cp_feature_dir'], 'cp_fps.pt'))\n",
    "mds = torch.load(os.path.join(args['cp_feature_dir'], 'cp_mds.pt'))"
   ]
  },
  {
   "cell_type": "code",
   "execution_count": 33,
   "metadata": {},
   "outputs": [],
   "source": [
    "assert len(graphs) == len(fps) == len(mds)"
   ]
  },
  {
   "cell_type": "code",
   "execution_count": 34,
   "metadata": {},
   "outputs": [],
   "source": [
    "### load protein initial feature\n",
    "pro_feature_dict = torch.load(os.path.join(args['pro_feature_dir'],'esm_feature.pt'),map_location=args['device'])"
   ]
  },
  {
   "cell_type": "code",
   "execution_count": 35,
   "metadata": {},
   "outputs": [],
   "source": [
    "# Build dataset\n",
    "TAVC_dataset = TAVC_Dataset_Train(smiles_list = TAVC_dataset_demo['canonical_smiles'].to_list(),\n",
    "                          target_seq_list=TAVC_dataset_demo['target_idx'].to_list(),\n",
    "                          target_feature_dict=pro_feature_dict,\n",
    "                          label_list=TAVC_dataset_demo['avd_label'].to_list(),\n",
    "                          graphs=graphs,\n",
    "                          fps=fps,\n",
    "                          mds=mds)"
   ]
  },
  {
   "cell_type": "code",
   "execution_count": 36,
   "metadata": {},
   "outputs": [
    {
     "name": "stdout",
     "output_type": "stream",
     "text": [
      "Train size:1600\n",
      "Validation size:200\n",
      "Test size:200\n"
     ]
    }
   ],
   "source": [
    "### data split\n",
    "train_ratio = args['train_ratio']\n",
    "val_ratio = args['val_ratio']\n",
    "dataset_size = len(TAVC_dataset)\n",
    "train_size = int(train_ratio * dataset_size) \n",
    "val_size = int(val_ratio * dataset_size)   \n",
    "test_size = dataset_size - train_size - val_size \n",
    "\n",
    "torch.manual_seed(42)\n",
    "train_dataset, val_dataset, test_dataset = random_split(TAVC_dataset, [train_size, val_size, test_size])\n",
    "print(f'Train size:{len(train_dataset)}\\nValidation size:{len(val_dataset)}\\nTest size:{len(test_dataset)}')\n",
    "\n",
    "### build dataloader \n",
    "config = config_dict[args['config']]\n",
    "collator = Collator_TAVC_Train(config['path_length'])\n",
    "\n",
    "train_loader = DataLoader(train_dataset, \n",
    "                          batch_size=args['batch_size'], \n",
    "                          shuffle=True,  \n",
    "                          drop_last=False, \n",
    "                          collate_fn=collator)\n",
    "val_loader = DataLoader(val_dataset, batch_size=args['batch_size'], \n",
    "                        shuffle=False,\n",
    "                          drop_last=False, \n",
    "                          collate_fn=collator)\n",
    "test_loader = DataLoader(test_dataset, batch_size=args['batch_size'], \n",
    "                         shuffle=False,  \n",
    "                         drop_last=False, \n",
    "                         collate_fn=collator)\n"
   ]
  },
  {
   "cell_type": "code",
   "execution_count": 43,
   "metadata": {},
   "outputs": [
    {
     "name": "stdout",
     "output_type": "stream",
     "text": [
      "model have 92.973273M parameters in total that require gradients\n"
     ]
    }
   ],
   "source": [
    "### Model Initialization\n",
    "DeepTAVC = CADTI_Finetune(\n",
    "d_model=256,\n",
    "n_heads=8,\n",
    "num_layers=1,\n",
    "kpgt_model=kpgt_model,\n",
    "smiles_dim=768,\n",
    "protein_dim=1280,\n",
    "kpgt_features_dim=2304,\n",
    "mlp_hidden_dim=256,\n",
    "num_classes=1,\n",
    "dropout=0,\n",
    "return_attn=True).to(args['device'])\n",
    "print(\"model have {}M parameters in total that require gradients\".format(\n",
    "sum(p.numel() for p in DeepTAVC.parameters() if p.requires_grad) / 1e6))"
   ]
  },
  {
   "cell_type": "code",
   "execution_count": 44,
   "metadata": {},
   "outputs": [
    {
     "data": {
      "text/plain": [
       "<All keys matched successfully>"
      ]
     },
     "execution_count": 44,
     "metadata": {},
     "output_type": "execute_result"
    }
   ],
   "source": [
    "DeepTAVC.load_state_dict(torch.load(args['CADTI_model_path'],map_location=args['device'])) # 加载预训练权重"
   ]
  },
  {
   "cell_type": "code",
   "execution_count": 45,
   "metadata": {},
   "outputs": [],
   "source": [
    "trainer = TAVC_Trainer(args=args, \n",
    "                        optimizer=optimizer,\n",
    "                    lr_scheduler=lr_scheduler,\n",
    "                    loss_fn=loss_fn,\n",
    "                    device=args['device'],\n",
    "                    model_name='DeepTAVC')"
   ]
  },
  {
   "cell_type": "code",
   "execution_count": 46,
   "metadata": {},
   "outputs": [
    {
     "name": "stderr",
     "output_type": "stream",
     "text": [
      "  4%|▍         | 2/50 [00:00<00:09,  5.00it/s]"
     ]
    },
    {
     "name": "stdout",
     "output_type": "stream",
     "text": [
      "[Batch 1],3.121765613555908\n"
     ]
    },
    {
     "name": "stderr",
     "output_type": "stream",
     "text": [
      "100%|██████████| 50/50 [00:19<00:00,  2.53it/s]\n",
      "100%|██████████| 7/7 [00:00<00:00,  7.26it/s]\n"
     ]
    },
    {
     "name": "stdout",
     "output_type": "stream",
     "text": [
      "[Epoch1], val_auroc: 0.771, val_auprc: 0.648 \n"
     ]
    },
    {
     "name": "stderr",
     "output_type": "stream",
     "text": [
      "  2%|▏         | 1/50 [00:00<00:08,  5.56it/s]"
     ]
    },
    {
     "name": "stdout",
     "output_type": "stream",
     "text": [
      "[Batch 1],0.5072362422943115\n"
     ]
    },
    {
     "name": "stderr",
     "output_type": "stream",
     "text": [
      "100%|██████████| 50/50 [00:16<00:00,  2.95it/s]\n",
      "100%|██████████| 7/7 [00:00<00:00, 15.97it/s]\n"
     ]
    },
    {
     "name": "stdout",
     "output_type": "stream",
     "text": [
      "[Epoch2], val_auroc: 0.783, val_auprc: 0.674 \n"
     ]
    },
    {
     "name": "stderr",
     "output_type": "stream",
     "text": [
      "  2%|▏         | 1/50 [00:00<00:08,  5.62it/s]"
     ]
    },
    {
     "name": "stdout",
     "output_type": "stream",
     "text": [
      "[Batch 1],0.44070374965667725\n"
     ]
    },
    {
     "name": "stderr",
     "output_type": "stream",
     "text": [
      "100%|██████████| 50/50 [00:12<00:00,  4.08it/s]\n",
      "100%|██████████| 7/7 [00:00<00:00,  7.78it/s]\n"
     ]
    },
    {
     "name": "stdout",
     "output_type": "stream",
     "text": [
      "[Epoch3], val_auroc: 0.787, val_auprc: 0.672 \n"
     ]
    },
    {
     "name": "stderr",
     "output_type": "stream",
     "text": [
      "  2%|▏         | 1/50 [00:00<00:24,  2.00it/s]"
     ]
    },
    {
     "name": "stdout",
     "output_type": "stream",
     "text": [
      "[Batch 1],0.18070515990257263\n"
     ]
    },
    {
     "name": "stderr",
     "output_type": "stream",
     "text": [
      "100%|██████████| 50/50 [00:16<00:00,  3.11it/s]\n",
      "100%|██████████| 7/7 [00:01<00:00,  6.74it/s]\n"
     ]
    },
    {
     "name": "stdout",
     "output_type": "stream",
     "text": [
      "[Epoch4], val_auroc: 0.786, val_auprc: 0.659 \n"
     ]
    },
    {
     "name": "stderr",
     "output_type": "stream",
     "text": [
      "  2%|▏         | 1/50 [00:00<00:25,  1.92it/s]"
     ]
    },
    {
     "name": "stdout",
     "output_type": "stream",
     "text": [
      "[Batch 1],0.14406126737594604\n"
     ]
    },
    {
     "name": "stderr",
     "output_type": "stream",
     "text": [
      "100%|██████████| 50/50 [00:16<00:00,  3.12it/s]\n",
      "100%|██████████| 7/7 [00:00<00:00, 17.00it/s]\n"
     ]
    },
    {
     "name": "stdout",
     "output_type": "stream",
     "text": [
      "[Epoch5], val_auroc: 0.786, val_auprc: 0.657 \n"
     ]
    },
    {
     "name": "stderr",
     "output_type": "stream",
     "text": [
      "  2%|▏         | 1/50 [00:00<00:08,  5.59it/s]"
     ]
    },
    {
     "name": "stdout",
     "output_type": "stream",
     "text": [
      "[Batch 1],0.11063903570175171\n"
     ]
    },
    {
     "name": "stderr",
     "output_type": "stream",
     "text": [
      "100%|██████████| 50/50 [00:12<00:00,  4.10it/s]\n",
      "100%|██████████| 7/7 [00:00<00:00, 19.75it/s]\n"
     ]
    },
    {
     "name": "stdout",
     "output_type": "stream",
     "text": [
      "[Epoch6], val_auroc: 0.784, val_auprc: 0.662 \n"
     ]
    },
    {
     "name": "stderr",
     "output_type": "stream",
     "text": [
      "  2%|▏         | 1/50 [00:00<00:07,  6.87it/s]"
     ]
    },
    {
     "name": "stdout",
     "output_type": "stream",
     "text": [
      "[Batch 1],0.0610453300178051\n"
     ]
    },
    {
     "name": "stderr",
     "output_type": "stream",
     "text": [
      "100%|██████████| 50/50 [00:07<00:00,  6.58it/s]\n",
      "100%|██████████| 7/7 [00:00<00:00, 19.94it/s]\n"
     ]
    },
    {
     "name": "stdout",
     "output_type": "stream",
     "text": [
      "[Epoch7], val_auroc: 0.784, val_auprc: 0.655 \n"
     ]
    },
    {
     "name": "stderr",
     "output_type": "stream",
     "text": [
      "  2%|▏         | 1/50 [00:00<00:07,  6.80it/s]"
     ]
    },
    {
     "name": "stdout",
     "output_type": "stream",
     "text": [
      "[Batch 1],0.05921315401792526\n"
     ]
    },
    {
     "name": "stderr",
     "output_type": "stream",
     "text": [
      "100%|██████████| 50/50 [00:07<00:00,  6.30it/s]\n",
      "100%|██████████| 7/7 [00:00<00:00, 19.72it/s]\n"
     ]
    },
    {
     "name": "stdout",
     "output_type": "stream",
     "text": [
      "[Epoch8], val_auroc: 0.783, val_auprc: 0.650 \n"
     ]
    },
    {
     "name": "stderr",
     "output_type": "stream",
     "text": [
      "  2%|▏         | 1/50 [00:00<00:07,  6.76it/s]"
     ]
    },
    {
     "name": "stdout",
     "output_type": "stream",
     "text": [
      "[Batch 1],0.07419779896736145\n"
     ]
    },
    {
     "name": "stderr",
     "output_type": "stream",
     "text": [
      "100%|██████████| 50/50 [00:13<00:00,  3.79it/s]\n",
      "100%|██████████| 7/7 [00:00<00:00, 16.97it/s]\n"
     ]
    },
    {
     "name": "stdout",
     "output_type": "stream",
     "text": [
      "[Epoch9], val_auroc: 0.783, val_auprc: 0.651 \n"
     ]
    },
    {
     "name": "stderr",
     "output_type": "stream",
     "text": [
      "  2%|▏         | 1/50 [00:00<00:08,  5.91it/s]"
     ]
    },
    {
     "name": "stdout",
     "output_type": "stream",
     "text": [
      "[Batch 1],0.04547952860593796\n"
     ]
    },
    {
     "name": "stderr",
     "output_type": "stream",
     "text": [
      "100%|██████████| 50/50 [00:16<00:00,  3.03it/s]\n",
      "100%|██████████| 7/7 [00:01<00:00,  6.95it/s]\n"
     ]
    },
    {
     "name": "stdout",
     "output_type": "stream",
     "text": [
      "[Epoch10], val_auroc: 0.782, val_auprc: 0.649 \n"
     ]
    },
    {
     "name": "stderr",
     "output_type": "stream",
     "text": [
      "  2%|▏         | 1/50 [00:00<00:24,  1.99it/s]"
     ]
    },
    {
     "name": "stdout",
     "output_type": "stream",
     "text": [
      "[Batch 1],0.015752270817756653\n"
     ]
    },
    {
     "name": "stderr",
     "output_type": "stream",
     "text": [
      "100%|██████████| 50/50 [00:18<00:00,  2.74it/s]\n",
      "100%|██████████| 7/7 [00:01<00:00,  6.73it/s]\n"
     ]
    },
    {
     "name": "stdout",
     "output_type": "stream",
     "text": [
      "[Epoch11], val_auroc: 0.781, val_auprc: 0.644 \n"
     ]
    },
    {
     "name": "stderr",
     "output_type": "stream",
     "text": [
      "  4%|▍         | 2/50 [00:00<00:10,  4.46it/s]"
     ]
    },
    {
     "name": "stdout",
     "output_type": "stream",
     "text": [
      "[Batch 1],0.03219792991876602\n"
     ]
    },
    {
     "name": "stderr",
     "output_type": "stream",
     "text": [
      "100%|██████████| 50/50 [00:12<00:00,  4.09it/s]\n",
      "100%|██████████| 7/7 [00:00<00:00, 20.05it/s]\n"
     ]
    },
    {
     "name": "stdout",
     "output_type": "stream",
     "text": [
      "[Epoch12], val_auroc: 0.777, val_auprc: 0.640 \n"
     ]
    },
    {
     "name": "stderr",
     "output_type": "stream",
     "text": [
      "  2%|▏         | 1/50 [00:00<00:20,  2.45it/s]"
     ]
    },
    {
     "name": "stdout",
     "output_type": "stream",
     "text": [
      "[Batch 1],0.024051669985055923\n"
     ]
    },
    {
     "name": "stderr",
     "output_type": "stream",
     "text": [
      "100%|██████████| 50/50 [00:16<00:00,  3.00it/s]\n",
      "100%|██████████| 7/7 [00:00<00:00, 15.15it/s]\n"
     ]
    },
    {
     "name": "stdout",
     "output_type": "stream",
     "text": [
      "[Epoch13], val_auroc: 0.778, val_auprc: 0.640 \n"
     ]
    },
    {
     "name": "stderr",
     "output_type": "stream",
     "text": [
      "  2%|▏         | 1/50 [00:00<00:08,  5.55it/s]"
     ]
    },
    {
     "name": "stdout",
     "output_type": "stream",
     "text": [
      "[Batch 1],0.01233658753335476\n"
     ]
    },
    {
     "name": "stderr",
     "output_type": "stream",
     "text": [
      "100%|██████████| 50/50 [00:17<00:00,  2.94it/s]\n",
      "100%|██████████| 7/7 [00:00<00:00,  9.46it/s]\n"
     ]
    },
    {
     "name": "stdout",
     "output_type": "stream",
     "text": [
      "[Epoch14], val_auroc: 0.778, val_auprc: 0.642 \n"
     ]
    },
    {
     "name": "stderr",
     "output_type": "stream",
     "text": [
      "  2%|▏         | 1/50 [00:00<00:08,  6.04it/s]"
     ]
    },
    {
     "name": "stdout",
     "output_type": "stream",
     "text": [
      "[Batch 1],0.0046801394782960415\n"
     ]
    },
    {
     "name": "stderr",
     "output_type": "stream",
     "text": [
      "100%|██████████| 50/50 [00:08<00:00,  6.02it/s]\n",
      "100%|██████████| 7/7 [00:00<00:00, 16.95it/s]\n"
     ]
    },
    {
     "name": "stdout",
     "output_type": "stream",
     "text": [
      "[Epoch15], val_auroc: 0.777, val_auprc: 0.637 \n"
     ]
    },
    {
     "name": "stderr",
     "output_type": "stream",
     "text": [
      "  2%|▏         | 1/50 [00:00<00:08,  5.74it/s]"
     ]
    },
    {
     "name": "stdout",
     "output_type": "stream",
     "text": [
      "[Batch 1],0.005778110586106777\n"
     ]
    },
    {
     "name": "stderr",
     "output_type": "stream",
     "text": [
      "100%|██████████| 50/50 [00:08<00:00,  5.87it/s]\n",
      "100%|██████████| 7/7 [00:00<00:00, 17.08it/s]\n"
     ]
    },
    {
     "name": "stdout",
     "output_type": "stream",
     "text": [
      "[Epoch16], val_auroc: 0.777, val_auprc: 0.634 \n"
     ]
    },
    {
     "name": "stderr",
     "output_type": "stream",
     "text": [
      "  2%|▏         | 1/50 [00:00<00:08,  5.93it/s]"
     ]
    },
    {
     "name": "stdout",
     "output_type": "stream",
     "text": [
      "[Batch 1],0.004880940541625023\n"
     ]
    },
    {
     "name": "stderr",
     "output_type": "stream",
     "text": [
      " 92%|█████████▏| 46/50 [00:14<00:01,  3.25it/s]\n"
     ]
    },
    {
     "ename": "KeyboardInterrupt",
     "evalue": "",
     "output_type": "error",
     "traceback": [
      "\u001b[0;31m---------------------------------------------------------------------------\u001b[0m",
      "\u001b[0;31mKeyboardInterrupt\u001b[0m                         Traceback (most recent call last)",
      "\u001b[0;32m/tmp/ipykernel_1552692/2245884175.py\u001b[0m in \u001b[0;36m<module>\u001b[0;34m\u001b[0m\n\u001b[1;32m      1\u001b[0m performance_res_df = trainer.fit(model=DeepTAVC,\n\u001b[1;32m      2\u001b[0m                     \u001b[0mtrain_loader\u001b[0m\u001b[0;34m=\u001b[0m\u001b[0mtrain_loader\u001b[0m\u001b[0;34m,\u001b[0m\u001b[0;34m\u001b[0m\u001b[0;34m\u001b[0m\u001b[0m\n\u001b[0;32m----> 3\u001b[0;31m                     val_loader=val_loader)\n\u001b[0m",
      "\u001b[0;32m/home2/kangboming/kangboming/workspace2/AVC_paper/github/code/utils/TAVC_trainer.py\u001b[0m in \u001b[0;36mfit\u001b[0;34m(self, model, train_loader, val_loader)\u001b[0m\n\u001b[1;32m     59\u001b[0m         \u001b[0mres_df_list\u001b[0m \u001b[0;34m=\u001b[0m \u001b[0;34m[\u001b[0m\u001b[0;34m]\u001b[0m\u001b[0;34m\u001b[0m\u001b[0;34m\u001b[0m\u001b[0m\n\u001b[1;32m     60\u001b[0m         \u001b[0;32mfor\u001b[0m \u001b[0mepoch\u001b[0m \u001b[0;32min\u001b[0m \u001b[0mrange\u001b[0m\u001b[0;34m(\u001b[0m\u001b[0;36m1\u001b[0m\u001b[0;34m,\u001b[0m \u001b[0mself\u001b[0m\u001b[0;34m.\u001b[0m\u001b[0margs\u001b[0m\u001b[0;34m[\u001b[0m\u001b[0;34m'n_epochs'\u001b[0m\u001b[0;34m]\u001b[0m \u001b[0;34m+\u001b[0m \u001b[0;36m1\u001b[0m\u001b[0;34m)\u001b[0m\u001b[0;34m:\u001b[0m\u001b[0;34m\u001b[0m\u001b[0;34m\u001b[0m\u001b[0m\n\u001b[0;32m---> 61\u001b[0;31m             \u001b[0mself\u001b[0m\u001b[0;34m.\u001b[0m\u001b[0mtrain_epoch\u001b[0m\u001b[0;34m(\u001b[0m\u001b[0mmodel\u001b[0m\u001b[0;34m,\u001b[0m \u001b[0mtrain_loader\u001b[0m\u001b[0;34m)\u001b[0m\u001b[0;34m\u001b[0m\u001b[0;34m\u001b[0m\u001b[0m\n\u001b[0m\u001b[1;32m     62\u001b[0m             \u001b[0mval_result\u001b[0m \u001b[0;34m=\u001b[0m \u001b[0mself\u001b[0m\u001b[0;34m.\u001b[0m\u001b[0meval\u001b[0m\u001b[0;34m(\u001b[0m\u001b[0mmodel\u001b[0m\u001b[0;34m,\u001b[0m \u001b[0mval_loader\u001b[0m\u001b[0;34m)\u001b[0m\u001b[0;34m\u001b[0m\u001b[0;34m\u001b[0m\u001b[0m\n\u001b[1;32m     63\u001b[0m             \u001b[0mval_res_df\u001b[0m \u001b[0;34m=\u001b[0m \u001b[0mpd\u001b[0m\u001b[0;34m.\u001b[0m\u001b[0mDataFrame\u001b[0m\u001b[0;34m(\u001b[0m\u001b[0mval_result\u001b[0m\u001b[0;34m,\u001b[0m\u001b[0mindex\u001b[0m\u001b[0;34m=\u001b[0m\u001b[0;34m[\u001b[0m\u001b[0;36m0\u001b[0m\u001b[0;34m]\u001b[0m\u001b[0;34m)\u001b[0m\u001b[0;34m\u001b[0m\u001b[0;34m\u001b[0m\u001b[0m\n",
      "\u001b[0;32m/home2/kangboming/kangboming/workspace2/AVC_paper/github/code/utils/TAVC_trainer.py\u001b[0m in \u001b[0;36mtrain_epoch\u001b[0;34m(self, model, train_loader)\u001b[0m\n\u001b[1;32m     39\u001b[0m             \u001b[0mself\u001b[0m\u001b[0;34m.\u001b[0m\u001b[0moptimizer\u001b[0m\u001b[0;34m.\u001b[0m\u001b[0mzero_grad\u001b[0m\u001b[0;34m(\u001b[0m\u001b[0;34m)\u001b[0m\u001b[0;34m\u001b[0m\u001b[0;34m\u001b[0m\u001b[0m\n\u001b[1;32m     40\u001b[0m \u001b[0;34m\u001b[0m\u001b[0m\n\u001b[0;32m---> 41\u001b[0;31m             \u001b[0mpredictions\u001b[0m\u001b[0;34m,\u001b[0m \u001b[0mlabels\u001b[0m \u001b[0;34m=\u001b[0m \u001b[0mself\u001b[0m\u001b[0;34m.\u001b[0m\u001b[0m_forward_epoch\u001b[0m\u001b[0;34m(\u001b[0m\u001b[0mmodel\u001b[0m\u001b[0;34m,\u001b[0m \u001b[0mbatched_data\u001b[0m\u001b[0;34m)\u001b[0m\u001b[0;34m\u001b[0m\u001b[0;34m\u001b[0m\u001b[0m\n\u001b[0m\u001b[1;32m     42\u001b[0m \u001b[0;34m\u001b[0m\u001b[0m\n\u001b[1;32m     43\u001b[0m             \u001b[0mpredictions\u001b[0m \u001b[0;34m=\u001b[0m \u001b[0mpredictions\u001b[0m\u001b[0;34m.\u001b[0m\u001b[0mfloat\u001b[0m\u001b[0;34m(\u001b[0m\u001b[0;34m)\u001b[0m\u001b[0;34m\u001b[0m\u001b[0;34m\u001b[0m\u001b[0m\n",
      "\u001b[0;32m/home2/kangboming/kangboming/workspace2/AVC_paper/github/code/utils/TAVC_trainer.py\u001b[0m in \u001b[0;36m_forward_epoch\u001b[0;34m(self, model, batched_data)\u001b[0m\n\u001b[1;32m     30\u001b[0m         \u001b[0mtarget_feature\u001b[0m \u001b[0;34m=\u001b[0m \u001b[0mtarget_feature\u001b[0m\u001b[0;34m.\u001b[0m\u001b[0mto\u001b[0m\u001b[0;34m(\u001b[0m\u001b[0mself\u001b[0m\u001b[0;34m.\u001b[0m\u001b[0mdevice\u001b[0m\u001b[0;34m)\u001b[0m\u001b[0;34m\u001b[0m\u001b[0;34m\u001b[0m\u001b[0m\n\u001b[1;32m     31\u001b[0m \u001b[0;34m\u001b[0m\u001b[0m\n\u001b[0;32m---> 32\u001b[0;31m         \u001b[0mpredictions\u001b[0m \u001b[0;34m=\u001b[0m \u001b[0mmodel\u001b[0m\u001b[0;34m(\u001b[0m\u001b[0mgraphs\u001b[0m\u001b[0;34m,\u001b[0m \u001b[0mfps\u001b[0m\u001b[0;34m,\u001b[0m \u001b[0mmds\u001b[0m\u001b[0;34m,\u001b[0m \u001b[0mtarget_feature\u001b[0m\u001b[0;34m)\u001b[0m\u001b[0;34m[\u001b[0m\u001b[0;36m0\u001b[0m\u001b[0;34m]\u001b[0m\u001b[0;34m\u001b[0m\u001b[0;34m\u001b[0m\u001b[0m\n\u001b[0m\u001b[1;32m     33\u001b[0m         \u001b[0;32mreturn\u001b[0m \u001b[0mpredictions\u001b[0m\u001b[0;34m,\u001b[0m \u001b[0mlabels\u001b[0m\u001b[0;34m\u001b[0m\u001b[0;34m\u001b[0m\u001b[0m\n\u001b[1;32m     34\u001b[0m \u001b[0;34m\u001b[0m\u001b[0m\n",
      "\u001b[0;32m~/miniconda3/envs/KPGT/lib/python3.7/site-packages/torch/nn/modules/module.py\u001b[0m in \u001b[0;36m_call_impl\u001b[0;34m(self, *input, **kwargs)\u001b[0m\n\u001b[1;32m   1100\u001b[0m         if not (self._backward_hooks or self._forward_hooks or self._forward_pre_hooks or _global_backward_hooks\n\u001b[1;32m   1101\u001b[0m                 or _global_forward_hooks or _global_forward_pre_hooks):\n\u001b[0;32m-> 1102\u001b[0;31m             \u001b[0;32mreturn\u001b[0m \u001b[0mforward_call\u001b[0m\u001b[0;34m(\u001b[0m\u001b[0;34m*\u001b[0m\u001b[0minput\u001b[0m\u001b[0;34m,\u001b[0m \u001b[0;34m**\u001b[0m\u001b[0mkwargs\u001b[0m\u001b[0;34m)\u001b[0m\u001b[0;34m\u001b[0m\u001b[0;34m\u001b[0m\u001b[0m\n\u001b[0m\u001b[1;32m   1103\u001b[0m         \u001b[0;31m# Do not call functions when jit is used\u001b[0m\u001b[0;34m\u001b[0m\u001b[0;34m\u001b[0m\u001b[0;34m\u001b[0m\u001b[0m\n\u001b[1;32m   1104\u001b[0m         \u001b[0mfull_backward_hooks\u001b[0m\u001b[0;34m,\u001b[0m \u001b[0mnon_full_backward_hooks\u001b[0m \u001b[0;34m=\u001b[0m \u001b[0;34m[\u001b[0m\u001b[0;34m]\u001b[0m\u001b[0;34m,\u001b[0m \u001b[0;34m[\u001b[0m\u001b[0;34m]\u001b[0m\u001b[0;34m\u001b[0m\u001b[0;34m\u001b[0m\u001b[0m\n",
      "\u001b[0;32m/home2/kangboming/kangboming/workspace2/AVC_paper/github/code/utils/model/DeepAVC.py\u001b[0m in \u001b[0;36mforward\u001b[0;34m(self, graphs, fps, mds, protein_features)\u001b[0m\n\u001b[1;32m    151\u001b[0m \u001b[0;34m\u001b[0m\u001b[0m\n\u001b[1;32m    152\u001b[0m         \u001b[0;31m### 生成药物graph的节点特征和带有fps和mds的分子指纹特征\u001b[0m\u001b[0;34m\u001b[0m\u001b[0;34m\u001b[0m\u001b[0;34m\u001b[0m\u001b[0m\n\u001b[0;32m--> 153\u001b[0;31m         \u001b[0msmiles_features\u001b[0m\u001b[0;34m,\u001b[0m \u001b[0msmiles_mask\u001b[0m\u001b[0;34m,\u001b[0m\u001b[0mg_feats\u001b[0m \u001b[0;34m=\u001b[0m \u001b[0mself\u001b[0m\u001b[0;34m.\u001b[0m\u001b[0mkpgt_model\u001b[0m\u001b[0;34m.\u001b[0m\u001b[0mgenerate_node_feature\u001b[0m\u001b[0;34m(\u001b[0m\u001b[0mgraphs\u001b[0m\u001b[0;34m,\u001b[0m \u001b[0mfps\u001b[0m\u001b[0;34m,\u001b[0m \u001b[0mmds\u001b[0m\u001b[0;34m)\u001b[0m\u001b[0;34m\u001b[0m\u001b[0;34m\u001b[0m\u001b[0m\n\u001b[0m\u001b[1;32m    154\u001b[0m \u001b[0;34m\u001b[0m\u001b[0m\n\u001b[1;32m    155\u001b[0m \u001b[0;34m\u001b[0m\u001b[0m\n",
      "\u001b[0;32m/home2/kangboming/kangboming/workspace2/AVC_paper/github/code/utils/model/KPGT_v2.py\u001b[0m in \u001b[0;36mgenerate_node_feature\u001b[0;34m(self, g, fp, md)\u001b[0m\n\u001b[1;32m    346\u001b[0m         \u001b[0mtriplet_h\u001b[0m \u001b[0;34m=\u001b[0m \u001b[0mself\u001b[0m\u001b[0;34m.\u001b[0m\u001b[0mtriplet_emb\u001b[0m\u001b[0;34m(\u001b[0m\u001b[0mnode_h\u001b[0m\u001b[0;34m,\u001b[0m \u001b[0medge_h\u001b[0m\u001b[0;34m,\u001b[0m \u001b[0mfp\u001b[0m\u001b[0;34m,\u001b[0m \u001b[0mmd\u001b[0m\u001b[0;34m,\u001b[0m \u001b[0mindicators\u001b[0m\u001b[0;34m)\u001b[0m\u001b[0;34m\u001b[0m\u001b[0;34m\u001b[0m\u001b[0m\n\u001b[1;32m    347\u001b[0m         \u001b[0;31m# 模型部分\u001b[0m\u001b[0;34m\u001b[0m\u001b[0;34m\u001b[0m\u001b[0;34m\u001b[0m\u001b[0m\n\u001b[0;32m--> 348\u001b[0;31m         \u001b[0mtriplet_h\u001b[0m \u001b[0;34m=\u001b[0m \u001b[0mself\u001b[0m\u001b[0;34m.\u001b[0m\u001b[0mmodel\u001b[0m\u001b[0;34m(\u001b[0m\u001b[0mg\u001b[0m\u001b[0;34m,\u001b[0m \u001b[0mtriplet_h\u001b[0m\u001b[0;34m)\u001b[0m\u001b[0;34m\u001b[0m\u001b[0;34m\u001b[0m\u001b[0m\n\u001b[0m\u001b[1;32m    349\u001b[0m \u001b[0;34m\u001b[0m\u001b[0m\n\u001b[1;32m    350\u001b[0m         \u001b[0;31m# 每个分子的node数量\u001b[0m\u001b[0;34m\u001b[0m\u001b[0;34m\u001b[0m\u001b[0;34m\u001b[0m\u001b[0m\n",
      "\u001b[0;32m~/miniconda3/envs/KPGT/lib/python3.7/site-packages/torch/nn/modules/module.py\u001b[0m in \u001b[0;36m_call_impl\u001b[0;34m(self, *input, **kwargs)\u001b[0m\n\u001b[1;32m   1100\u001b[0m         if not (self._backward_hooks or self._forward_hooks or self._forward_pre_hooks or _global_backward_hooks\n\u001b[1;32m   1101\u001b[0m                 or _global_forward_hooks or _global_forward_pre_hooks):\n\u001b[0;32m-> 1102\u001b[0;31m             \u001b[0;32mreturn\u001b[0m \u001b[0mforward_call\u001b[0m\u001b[0;34m(\u001b[0m\u001b[0;34m*\u001b[0m\u001b[0minput\u001b[0m\u001b[0;34m,\u001b[0m \u001b[0;34m**\u001b[0m\u001b[0mkwargs\u001b[0m\u001b[0;34m)\u001b[0m\u001b[0;34m\u001b[0m\u001b[0;34m\u001b[0m\u001b[0m\n\u001b[0m\u001b[1;32m   1103\u001b[0m         \u001b[0;31m# Do not call functions when jit is used\u001b[0m\u001b[0;34m\u001b[0m\u001b[0;34m\u001b[0m\u001b[0;34m\u001b[0m\u001b[0m\n\u001b[1;32m   1104\u001b[0m         \u001b[0mfull_backward_hooks\u001b[0m\u001b[0;34m,\u001b[0m \u001b[0mnon_full_backward_hooks\u001b[0m \u001b[0;34m=\u001b[0m \u001b[0;34m[\u001b[0m\u001b[0;34m]\u001b[0m\u001b[0;34m,\u001b[0m \u001b[0;34m[\u001b[0m\u001b[0;34m]\u001b[0m\u001b[0;34m\u001b[0m\u001b[0;34m\u001b[0m\u001b[0m\n",
      "\u001b[0;32m/home2/kangboming/kangboming/workspace2/AVC_paper/github/code/utils/model/KPGT_v2.py\u001b[0m in \u001b[0;36mforward\u001b[0;34m(self, g, triplet_h)\u001b[0m\n\u001b[1;32m    183\u001b[0m     \u001b[0;32mdef\u001b[0m \u001b[0mforward\u001b[0m\u001b[0;34m(\u001b[0m\u001b[0mself\u001b[0m\u001b[0;34m,\u001b[0m \u001b[0mg\u001b[0m\u001b[0;34m,\u001b[0m \u001b[0mtriplet_h\u001b[0m\u001b[0;34m)\u001b[0m\u001b[0;34m:\u001b[0m\u001b[0;34m\u001b[0m\u001b[0;34m\u001b[0m\u001b[0m\n\u001b[1;32m    184\u001b[0m         \u001b[0mpath_indices\u001b[0m \u001b[0;34m=\u001b[0m \u001b[0mg\u001b[0m\u001b[0;34m.\u001b[0m\u001b[0medata\u001b[0m\u001b[0;34m[\u001b[0m\u001b[0;34m'path'\u001b[0m\u001b[0;34m]\u001b[0m\u001b[0;34m\u001b[0m\u001b[0;34m\u001b[0m\u001b[0m\n\u001b[0;32m--> 185\u001b[0;31m         \u001b[0mdist_h\u001b[0m \u001b[0;34m=\u001b[0m \u001b[0mself\u001b[0m\u001b[0;34m.\u001b[0m\u001b[0m_featurize_path\u001b[0m\u001b[0;34m(\u001b[0m\u001b[0mg\u001b[0m\u001b[0;34m,\u001b[0m \u001b[0mpath_indices\u001b[0m\u001b[0;34m)\u001b[0m\u001b[0;34m\u001b[0m\u001b[0;34m\u001b[0m\u001b[0m\n\u001b[0m\u001b[1;32m    186\u001b[0m         \u001b[0mpath_h\u001b[0m \u001b[0;34m=\u001b[0m \u001b[0mself\u001b[0m\u001b[0;34m.\u001b[0m\u001b[0m_init_path\u001b[0m\u001b[0;34m(\u001b[0m\u001b[0mg\u001b[0m\u001b[0;34m,\u001b[0m \u001b[0mtriplet_h\u001b[0m\u001b[0;34m,\u001b[0m \u001b[0mpath_indices\u001b[0m\u001b[0;34m)\u001b[0m\u001b[0;34m\u001b[0m\u001b[0;34m\u001b[0m\u001b[0m\n\u001b[1;32m    187\u001b[0m         \u001b[0mdist_attn\u001b[0m\u001b[0;34m,\u001b[0m \u001b[0mpath_attn\u001b[0m \u001b[0;34m=\u001b[0m \u001b[0mself\u001b[0m\u001b[0;34m.\u001b[0m\u001b[0mdist_attn_layer\u001b[0m\u001b[0;34m(\u001b[0m\u001b[0mdist_h\u001b[0m\u001b[0;34m)\u001b[0m\u001b[0;34m,\u001b[0m \u001b[0mself\u001b[0m\u001b[0;34m.\u001b[0m\u001b[0mpath_attn_layer\u001b[0m\u001b[0;34m(\u001b[0m\u001b[0mpath_h\u001b[0m\u001b[0;34m)\u001b[0m\u001b[0;34m\u001b[0m\u001b[0;34m\u001b[0m\u001b[0m\n",
      "\u001b[0;32m/home2/kangboming/kangboming/workspace2/AVC_paper/github/code/utils/model/KPGT_v2.py\u001b[0m in \u001b[0;36m_featurize_path\u001b[0;34m(self, g, path_indices)\u001b[0m\n\u001b[1;32m    166\u001b[0m         \u001b[0mpath_feats\u001b[0m \u001b[0;34m=\u001b[0m \u001b[0mself\u001b[0m\u001b[0;34m.\u001b[0m\u001b[0mpath_len_emb\u001b[0m\u001b[0;34m(\u001b[0m\u001b[0mpath_feats\u001b[0m\u001b[0;34m)\u001b[0m\u001b[0;34m\u001b[0m\u001b[0;34m\u001b[0m\u001b[0m\n\u001b[1;32m    167\u001b[0m         \u001b[0mpath_feats\u001b[0m\u001b[0;34m[\u001b[0m\u001b[0mg\u001b[0m\u001b[0;34m.\u001b[0m\u001b[0medata\u001b[0m\u001b[0;34m[\u001b[0m\u001b[0;34m'vp'\u001b[0m\u001b[0;34m]\u001b[0m\u001b[0;34m==\u001b[0m\u001b[0;36m1\u001b[0m\u001b[0;34m]\u001b[0m \u001b[0;34m=\u001b[0m \u001b[0mself\u001b[0m\u001b[0;34m.\u001b[0m\u001b[0mvirtual_path_emb\u001b[0m\u001b[0;34m.\u001b[0m\u001b[0mweight\u001b[0m \u001b[0;31m# virtual path\u001b[0m\u001b[0;34m\u001b[0m\u001b[0;34m\u001b[0m\u001b[0m\n\u001b[0;32m--> 168\u001b[0;31m         \u001b[0mpath_feats\u001b[0m\u001b[0;34m[\u001b[0m\u001b[0mg\u001b[0m\u001b[0;34m.\u001b[0m\u001b[0medata\u001b[0m\u001b[0;34m[\u001b[0m\u001b[0;34m'sl'\u001b[0m\u001b[0;34m]\u001b[0m\u001b[0;34m==\u001b[0m\u001b[0;36m1\u001b[0m\u001b[0;34m]\u001b[0m \u001b[0;34m=\u001b[0m \u001b[0mself\u001b[0m\u001b[0;34m.\u001b[0m\u001b[0mself_loop_emb\u001b[0m\u001b[0;34m.\u001b[0m\u001b[0mweight\u001b[0m \u001b[0;31m# self loop\u001b[0m\u001b[0;34m\u001b[0m\u001b[0;34m\u001b[0m\u001b[0m\n\u001b[0m\u001b[1;32m    169\u001b[0m         \u001b[0;32mreturn\u001b[0m \u001b[0mpath_feats\u001b[0m\u001b[0;34m\u001b[0m\u001b[0;34m\u001b[0m\u001b[0m\n\u001b[1;32m    170\u001b[0m \u001b[0;34m\u001b[0m\u001b[0m\n",
      "\u001b[0;31mKeyboardInterrupt\u001b[0m: "
     ]
    }
   ],
   "source": [
    "performance_res_df = trainer.fit(model=DeepTAVC,\n",
    "                    train_loader=train_loader,\n",
    "                    val_loader=val_loader)"
   ]
  },
  {
   "cell_type": "code",
   "execution_count": null,
   "metadata": {},
   "outputs": [],
   "source": []
  },
  {
   "cell_type": "code",
   "execution_count": null,
   "metadata": {},
   "outputs": [],
   "source": []
  },
  {
   "cell_type": "code",
   "execution_count": null,
   "metadata": {},
   "outputs": [],
   "source": []
  },
  {
   "cell_type": "code",
   "execution_count": null,
   "metadata": {},
   "outputs": [],
   "source": []
  },
  {
   "cell_type": "code",
   "execution_count": null,
   "metadata": {},
   "outputs": [],
   "source": []
  },
  {
   "cell_type": "code",
   "execution_count": null,
   "metadata": {},
   "outputs": [],
   "source": []
  }
 ],
 "metadata": {
  "kernelspec": {
   "display_name": "KPGT",
   "language": "python",
   "name": "python3"
  },
  "language_info": {
   "codemirror_mode": {
    "name": "ipython",
    "version": 3
   },
   "file_extension": ".py",
   "mimetype": "text/x-python",
   "name": "python",
   "nbconvert_exporter": "python",
   "pygments_lexer": "ipython3",
   "version": "undefined.undefined.undefined"
  }
 },
 "nbformat": 4,
 "nbformat_minor": 2
}
