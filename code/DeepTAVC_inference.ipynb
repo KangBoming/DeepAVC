{
 "cells": [
  {
   "cell_type": "code",
   "execution_count": 27,
   "metadata": {},
   "outputs": [],
   "source": [
    "import pandas as pd\n",
    "import torch\n",
    "import os\n",
    "from tqdm import tqdm\n",
    "from torch.utils.data import random_split\n",
    "from torch.utils.data import Dataset,DataLoader\n",
    "from utils.Func import extract_esm_feature,seq2fasta,extract_cp_feature,filter_invalid_smiles\n",
    "from dgl.data.utils import load_graphs\n",
    "from utils.TAVC_dataset import TAVC_Dataset_infer\n",
    "from utils.collator import Collator_TAVC_Infer\n",
    "from utils.TAVC_trainer import TAVC_Trainer\n",
    "from utils.scheduler import PolynomialDecayLR\n",
    "from torch.optim import Adam\n",
    "from torch.nn import  BCEWithLogitsLoss\n",
    "from utils.model.KPGT_v2 import *\n",
    "from utils.model.DeepAVC import *\n",
    "from utils.featurizer import Vocab, N_ATOM_TYPES, N_BOND_TYPES,VIRTUAL_ATOM_FEATURE_PLACEHOLDER, VIRTUAL_BOND_FEATURE_PLACEHOLDER"
   ]
  },
  {
   "cell_type": "code",
   "execution_count": 23,
   "metadata": {},
   "outputs": [],
   "source": [
    "args = {\n",
    "    'config':'base',\n",
    "    'd_fps': 512,\n",
    "    'd_mds': 200,\n",
    "    'dropout':0,\n",
    "    'batch_size':32,\n",
    "    'weight_decay':1e-6,\n",
    "    'n_tasks':1,\n",
    "    'lr': 1e-4,\n",
    "    'cp_feature_dir': '../data/DeepTAVC_inference/cp_feature',\n",
    "    'pro_feature_dir': '../data/DeepTAVC_inference/pro_feature',\n",
    "    'kpgt_model_path':'../pretrained_model/KPGT/KPGT.pth',\n",
    "    'DeepTAVC_model_path': '../pretrained_model/DeepAVC/DeepTAVC.pt',\n",
    "    'device':'cuda:0'}\n",
    "\n",
    "vocab = Vocab(N_ATOM_TYPES, N_BOND_TYPES)"
   ]
  },
  {
   "cell_type": "code",
   "execution_count": 7,
   "metadata": {},
   "outputs": [],
   "source": [
    "# demo dataset\n",
    "TAVC_demo_dataset = pd.read_csv('../data/DeepTAVC_inference/DeepTAVC_inference_demo.csv')"
   ]
  },
  {
   "cell_type": "code",
   "execution_count": 12,
   "metadata": {},
   "outputs": [
    {
     "name": "stderr",
     "output_type": "stream",
     "text": [
      "100%|██████████| 20/20 [00:00<00:00, 4510.25it/s]"
     ]
    },
    {
     "name": "stdout",
     "output_type": "stream",
     "text": [
      "extracting graphs\n"
     ]
    },
    {
     "name": "stderr",
     "output_type": "stream",
     "text": [
      "\n",
      "[Parallel(n_jobs=32)]: Using backend LokyBackend with 32 concurrent workers.\n",
      "Using backend: pytorch\n",
      "Using backend: pytorch\n",
      "Using backend: pytorchUsing backend: pytorchUsing backend: pytorchUsing backend: pytorch\n",
      "\n",
      "\n",
      "\n",
      "Using backend: pytorchUsing backend: pytorch\n",
      "\n",
      "Using backend: pytorch\n",
      "Using backend: pytorch\n",
      "Using backend: pytorch\n",
      "Using backend: pytorch\n",
      "Using backend: pytorchUsing backend: pytorch\n",
      "\n",
      "Using backend: pytorchUsing backend: pytorch\n",
      "\n",
      "Using backend: pytorch\n",
      "Using backend: pytorch\n",
      "Using backend: pytorch\n",
      "Using backend: pytorch\n"
     ]
    },
    {
     "name": "stdout",
     "output_type": "stream",
     "text": [
      "extracting fingerprints\n",
      "extracting molecular descriptors\n"
     ]
    },
    {
     "name": "stderr",
     "output_type": "stream",
     "text": [
      "[Parallel(n_jobs=32)]: Done  20 out of  20 | elapsed:    2.5s remaining:    0.0s\n",
      "[Parallel(n_jobs=32)]: Done  20 out of  20 | elapsed:    2.5s finished\n"
     ]
    },
    {
     "data": {
      "text/plain": [
       "'Done!'"
      ]
     },
     "execution_count": 12,
     "metadata": {},
     "output_type": "execute_result"
    }
   ],
   "source": [
    "# Extract compound initial feature by RDKit(if necessary)\n",
    "smiles_list = TAVC_demo_dataset['SMILES'].to_list()\n",
    "# filter compound with invalid smiles \n",
    "valid_smiles, invalid_smiles = filter_invalid_smiles(smiles_list)\n",
    "extract_cp_feature(smiles_list = valid_smiles, \n",
    "                   output_dir = args['cp_feature_dir'],\n",
    "                   num_workers=32)"
   ]
  },
  {
   "cell_type": "code",
   "execution_count": 13,
   "metadata": {},
   "outputs": [
    {
     "name": "stdout",
     "output_type": "stream",
     "text": [
      "Transferred model to GPUs\n",
      "Read /home2/kangboming/kangboming/workspace2/AVC_paper/github/data/DeepTAVC_inference/pro_feature/target_seq.fasta with 12 sequences\n",
      "Processing 1 of 2 batches (9 sequences)\n",
      "Processing 2 of 2 batches (3 sequences)\n"
     ]
    },
    {
     "data": {
      "text/plain": [
       "'Done!'"
      ]
     },
     "execution_count": 13,
     "metadata": {},
     "output_type": "execute_result"
    }
   ],
   "source": [
    "# Extract protein initial feature by ESM-2 (if necessary)\n",
    "pro_seq_list = list(TAVC_demo_dataset['sequence'].unique())\n",
    "# Transform protein sequences into the fasta format\n",
    "seq2fasta(seq_list=pro_seq_list, \n",
    "          save_dir=args['pro_feature_dir'])\n",
    "\n",
    "extract_esm_feature(\n",
    "    model_location = '../pretrained_model/ESM/esm2_t33_650M_UR50D.pt',\n",
    "    fasta_file = os.path.join(args['pro_feature_dir'], 'target_seq.fasta'),\n",
    "    output_dir = args['pro_feature_dir'],\n",
    "    toks_per_batch = 10000,\n",
    "    repr_layers = [-1], \n",
    "    include=['per_tok'],\n",
    "    device= args['device'],\n",
    "    truncation_seq_length = 1024)"
   ]
  },
  {
   "cell_type": "code",
   "execution_count": 8,
   "metadata": {},
   "outputs": [],
   "source": [
    "target_id_list = [ f'Target_{i+1}' for i in range(len(TAVC_demo_dataset['sequence'].unique()))]\n",
    "seq2id_dict = dict(zip( TAVC_demo_dataset['sequence'].unique(),target_id_list))\n",
    "TAVC_demo_dataset['target_idx'] = TAVC_demo_dataset['sequence'].map(seq2id_dict)"
   ]
  },
  {
   "cell_type": "code",
   "execution_count": 9,
   "metadata": {},
   "outputs": [],
   "source": [
    "### load compound initial feature\n",
    "graphs, label_dict = load_graphs(os.path.join(args['cp_feature_dir'], 'cp_graphs.pkl'))\n",
    "fps = torch.load(os.path.join(args['cp_feature_dir'], 'cp_fps.pt'))\n",
    "mds = torch.load(os.path.join(args['cp_feature_dir'], 'cp_mds.pt'))"
   ]
  },
  {
   "cell_type": "code",
   "execution_count": 10,
   "metadata": {},
   "outputs": [],
   "source": [
    "assert len(graphs) == len(fps) == len(mds)"
   ]
  },
  {
   "cell_type": "code",
   "execution_count": 11,
   "metadata": {},
   "outputs": [],
   "source": [
    "### load protein initial feature\n",
    "pro_feature_dict = torch.load(os.path.join(args['pro_feature_dir'],'esm_feature.pt'),map_location=args['device'])"
   ]
  },
  {
   "cell_type": "code",
   "execution_count": 12,
   "metadata": {},
   "outputs": [],
   "source": [
    "config = config_dict['base']\n",
    "collator = Collator_TAVC_Infer(config['path_length'])"
   ]
  },
  {
   "cell_type": "code",
   "execution_count": 15,
   "metadata": {},
   "outputs": [],
   "source": [
    "# Dataloader construction\n",
    "mydataset = TAVC_Dataset_infer(\n",
    "    smiles_list= TAVC_demo_dataset['SMILES'].to_list(),\n",
    "    target_id_list= TAVC_demo_dataset['target_idx'].to_list(),\n",
    "    target_feature_dict= pro_feature_dict,\n",
    "    graphs=graphs,\n",
    "    fps=fps,\n",
    "    mds=mds\n",
    ")\n",
    "\n",
    "myloader = DataLoader(mydataset, \n",
    "                        batch_size=32, \n",
    "                        shuffle=False, \n",
    "                        drop_last=False, \n",
    "                        collate_fn=collator)"
   ]
  },
  {
   "cell_type": "code",
   "execution_count": 22,
   "metadata": {},
   "outputs": [],
   "source": [
    "# KPGT model initialization\n",
    "kpgt_model = LiGhTPredictor(\n",
    "    d_node_feats=config['d_node_feats'],\n",
    "    d_edge_feats=config['d_edge_feats'],\n",
    "    d_g_feats=config['d_g_feats'],\n",
    "    d_fp_feats=args['d_fps'],\n",
    "    d_md_feats=args['d_mds'],\n",
    "    d_hpath_ratio=config['d_hpath_ratio'],\n",
    "    n_mol_layers=config['n_mol_layers'],\n",
    "    path_length=config['path_length'],\n",
    "    n_heads=config['n_heads'],\n",
    "    n_ffn_dense_layers=config['n_ffn_dense_layers'],\n",
    "    input_drop=0,\n",
    "    attn_drop=args['dropout'],\n",
    "    feat_drop=args['dropout'],\n",
    "    n_node_types=vocab.vocab_size).to(args['device'])"
   ]
  },
  {
   "cell_type": "code",
   "execution_count": 24,
   "metadata": {},
   "outputs": [],
   "source": [
    "# Delete unused structrue of KPGT model\n",
    "del kpgt_model.md_predictor\n",
    "del kpgt_model.fp_predictor\n",
    "del kpgt_model.node_predictor"
   ]
  },
  {
   "cell_type": "code",
   "execution_count": 29,
   "metadata": {},
   "outputs": [],
   "source": [
    "### DeepTAVC model initialization\n",
    "DeepTAVC = CADTI_Finetune(\n",
    "d_model=256,\n",
    "n_heads=8,\n",
    "num_layers=1,\n",
    "kpgt_model=kpgt_model,\n",
    "smiles_dim=768,\n",
    "protein_dim=1280,\n",
    "kpgt_features_dim=2304,\n",
    "mlp_hidden_dim=256,\n",
    "num_classes=1,\n",
    "dropout=0,\n",
    "return_attn=True).to(args['device'])"
   ]
  },
  {
   "cell_type": "code",
   "execution_count": 30,
   "metadata": {},
   "outputs": [
    {
     "data": {
      "text/plain": [
       "<All keys matched successfully>"
      ]
     },
     "execution_count": 30,
     "metadata": {},
     "output_type": "execute_result"
    }
   ],
   "source": [
    "# Load pre-trained weights of DeepTAVC model\n",
    "DeepTAVC.load_state_dict(torch.load(args['DeepTAVC_model_path'],map_location=args['device'])) "
   ]
  },
  {
   "cell_type": "code",
   "execution_count": 39,
   "metadata": {},
   "outputs": [],
   "source": [
    "def forward_epoch( model, batched_data, device):\n",
    "\n",
    "    smiless, graphs, fps, mds, target_feature, target_seqs  = batched_data\n",
    "\n",
    "    target_feature = target_feature.to(device)\n",
    "    fps = fps.to(device)\n",
    "    mds = mds.to(device)\n",
    "    graphs = graphs.to(device)\n",
    "    target_feature = target_feature.to(device)\n",
    "\n",
    "    predictions = model(graphs, fps, mds, target_feature)[0]\n",
    "    return predictions,smiless,target_seqs\n",
    "\n",
    "def eval( model, dataloader,device):\n",
    "    model.eval()\n",
    "    pred_scores_all = []\n",
    "    smiles_list = []\n",
    "    target_seqs_list = []\n",
    "    \n",
    "    for batched_data in tqdm(dataloader, total=len(dataloader)):\n",
    "\n",
    "        smiless, graphs, fps, mds, target_feature, target_seqs  = batched_data\n",
    "\n",
    "        target_feature = target_feature.to(device)\n",
    "        fps = fps.to(device)\n",
    "        mds = mds.to(device)\n",
    "        graphs = graphs.to(device)\n",
    "        target_feature = target_feature.to(device)\n",
    "        predictions = model(graphs, fps, mds, target_feature)[0]\n",
    "        predictions = predictions.squeeze(1)\n",
    "        pred_scores = torch.sigmoid(predictions)\n",
    "        pred_scores_all.extend(list(pred_scores.detach().cpu().numpy()))\n",
    "        smiles_list.extend(smiless)\n",
    "        target_seqs_list.extend(target_seqs)\n",
    "    \n",
    "    res_df = pd.DataFrame({\n",
    "        'SMILES':smiles_list,\n",
    "        'target_idx':target_seqs_list,\n",
    "        'pred_score':pred_scores_all\n",
    "    })\n",
    "\n",
    "    return res_df"
   ]
  },
  {
   "cell_type": "code",
   "execution_count": 40,
   "metadata": {},
   "outputs": [
    {
     "name": "stderr",
     "output_type": "stream",
     "text": [
      "100%|██████████| 1/1 [00:00<00:00,  6.35it/s]\n"
     ]
    }
   ],
   "source": [
    "# DeepTAVC model inference\n",
    "res_df = eval(model=DeepTAVC,dataloader=myloader,device=args['device'])"
   ]
  },
  {
   "cell_type": "code",
   "execution_count": 45,
   "metadata": {},
   "outputs": [],
   "source": [
    "final_res_df = pd.merge(TAVC_demo_dataset,res_df, on=['SMILES','target_idx'])"
   ]
  },
  {
   "cell_type": "code",
   "execution_count": 46,
   "metadata": {},
   "outputs": [
    {
     "data": {
      "text/html": [
       "<div>\n",
       "<style scoped>\n",
       "    .dataframe tbody tr th:only-of-type {\n",
       "        vertical-align: middle;\n",
       "    }\n",
       "\n",
       "    .dataframe tbody tr th {\n",
       "        vertical-align: top;\n",
       "    }\n",
       "\n",
       "    .dataframe thead th {\n",
       "        text-align: right;\n",
       "    }\n",
       "</style>\n",
       "<table border=\"1\" class=\"dataframe\">\n",
       "  <thead>\n",
       "    <tr style=\"text-align: right;\">\n",
       "      <th></th>\n",
       "      <th>SMILES</th>\n",
       "      <th>sequence</th>\n",
       "      <th>pchembl_value</th>\n",
       "      <th>label</th>\n",
       "      <th>target_idx</th>\n",
       "      <th>pred_score</th>\n",
       "    </tr>\n",
       "  </thead>\n",
       "  <tbody>\n",
       "    <tr>\n",
       "      <th>0</th>\n",
       "      <td>COc1ccc(C2=C(c3c[nH]c4ccccc34)C(=O)NC2)cc1</td>\n",
       "      <td>MPALARDGGQLPLLVVFSAMIFGTITNQDLPVIKCVLINHKNNDSS...</td>\n",
       "      <td>5.000</td>\n",
       "      <td>0</td>\n",
       "      <td>Target_1</td>\n",
       "      <td>8.380084e-08</td>\n",
       "    </tr>\n",
       "    <tr>\n",
       "      <th>1</th>\n",
       "      <td>Nc1ncnc2c1c(-c1ccc(Oc3ccccc3)cc1)nn2[C@@H]1CCC...</td>\n",
       "      <td>MAAVILESIFLKRSQQKKKTSPLNFKKRLFLLTVHKLSYYEYDFER...</td>\n",
       "      <td>8.050</td>\n",
       "      <td>1</td>\n",
       "      <td>Target_2</td>\n",
       "      <td>1.000000e+00</td>\n",
       "    </tr>\n",
       "    <tr>\n",
       "      <th>2</th>\n",
       "      <td>C=CC(=O)N1CCC[C@@H](n2nc(CCCOc3ccccc3)c3c(N)nc...</td>\n",
       "      <td>MAAVILESIFLKRSQQKKKTSPLNFKKRLFLLTVHKLSYYEYDFER...</td>\n",
       "      <td>7.650</td>\n",
       "      <td>1</td>\n",
       "      <td>Target_2</td>\n",
       "      <td>9.999826e-01</td>\n",
       "    </tr>\n",
       "    <tr>\n",
       "      <th>3</th>\n",
       "      <td>CN1[C@@H]2CC[C@H]1C[C@@H](NC(c1ccc(Cl)cc1)c1cc...</td>\n",
       "      <td>MLLARMNPQVQPENNGADTGPEQPLRARKTAELLVVKERNGVQCLL...</td>\n",
       "      <td>5.120</td>\n",
       "      <td>0</td>\n",
       "      <td>Target_3</td>\n",
       "      <td>1.483947e-10</td>\n",
       "    </tr>\n",
       "    <tr>\n",
       "      <th>4</th>\n",
       "      <td>N#CN[C@H]1C[C@@H](NS(=O)(=O)c2cccc(F)c2)c2ccc(...</td>\n",
       "      <td>MQYLNIKEDCNAMAFCAKMRSSKKTEVNLEAPEPGVEVIFYLSDRE...</td>\n",
       "      <td>5.570</td>\n",
       "      <td>0</td>\n",
       "      <td>Target_4</td>\n",
       "      <td>2.556997e-11</td>\n",
       "    </tr>\n",
       "    <tr>\n",
       "      <th>5</th>\n",
       "      <td>Oc1ccc2c(c1)CCCC(C1CCC(O)CC1)=C2c1ccc(O[C@H]2C...</td>\n",
       "      <td>MTMTLHTKASGMALLHQIQGNELEPLNRPQLKIPLERPLGEVYLDS...</td>\n",
       "      <td>8.310</td>\n",
       "      <td>1</td>\n",
       "      <td>Target_5</td>\n",
       "      <td>9.997373e-01</td>\n",
       "    </tr>\n",
       "    <tr>\n",
       "      <th>6</th>\n",
       "      <td>CC(C)CCn1cc2c(nc(NC(=O)Cc3ccc(F)cc3)n3nc(-c4cc...</td>\n",
       "      <td>MLLETQDALYVALELVIAALSVAGNVLVCAAVGTANTLQTPTNYFL...</td>\n",
       "      <td>5.300</td>\n",
       "      <td>0</td>\n",
       "      <td>Target_6</td>\n",
       "      <td>1.417815e-08</td>\n",
       "    </tr>\n",
       "    <tr>\n",
       "      <th>7</th>\n",
       "      <td>CCC(=O)N1CC[C@@H](Cc2ccc(F)cc2)C[C@@H]1CCCNC(=...</td>\n",
       "      <td>METTPLNSQKQLSACEDGEDCQENGVLQKVVPTPGDKVESGQISNG...</td>\n",
       "      <td>6.650</td>\n",
       "      <td>0</td>\n",
       "      <td>Target_7</td>\n",
       "      <td>1.204301e-04</td>\n",
       "    </tr>\n",
       "    <tr>\n",
       "      <th>8</th>\n",
       "      <td>COc1ccc(S(=O)(=O)N(CC(C)C)C[C@@H](O)[C@H](Cc2c...</td>\n",
       "      <td>PQITLWQRPFVTIKIEGQLKEALLDTGADDTVLEEMNLPGRWKPKM...</td>\n",
       "      <td>9.420</td>\n",
       "      <td>1</td>\n",
       "      <td>Target_8</td>\n",
       "      <td>9.999999e-01</td>\n",
       "    </tr>\n",
       "    <tr>\n",
       "      <th>9</th>\n",
       "      <td>N#C[C@H]1C[C@@H](O)CC[C@@H]1n1cc(C(N)=O)c(Nc2c...</td>\n",
       "      <td>MGMACLTMTEMEGTSTSSIYQNGDISGNANSMKQIDPVLQVYLYHS...</td>\n",
       "      <td>8.520</td>\n",
       "      <td>1</td>\n",
       "      <td>Target_9</td>\n",
       "      <td>1.000000e+00</td>\n",
       "    </tr>\n",
       "    <tr>\n",
       "      <th>10</th>\n",
       "      <td>Cc1nc2cnc3ccc(-c4cc(Cl)c(O)c(Cl)c4)cc3c2n1C1CC...</td>\n",
       "      <td>MGMACLTMTEMEGTSTSSIYQNGDISGNANSMKQIDPVLQVYLYHS...</td>\n",
       "      <td>7.820</td>\n",
       "      <td>1</td>\n",
       "      <td>Target_9</td>\n",
       "      <td>9.991323e-01</td>\n",
       "    </tr>\n",
       "    <tr>\n",
       "      <th>11</th>\n",
       "      <td>CN(C)C1CCN(c2ncc(-c3cnc4[nH]ccc4n3)c(N[C@H]3CC...</td>\n",
       "      <td>MGMACLTMTEMEGTSTSSIYQNGDISGNANSMKQIDPVLQVYLYHS...</td>\n",
       "      <td>9.860</td>\n",
       "      <td>1</td>\n",
       "      <td>Target_9</td>\n",
       "      <td>9.999996e-01</td>\n",
       "    </tr>\n",
       "    <tr>\n",
       "      <th>12</th>\n",
       "      <td>O=C(CCCCCCN1C/C=C/CCOc2cccc(c2)-c2ccnc(n2)Nc2c...</td>\n",
       "      <td>MPALARDGGQLPLLVVFSAMIFGTITNQDLPVIKCVLINHKNNDSS...</td>\n",
       "      <td>7.060</td>\n",
       "      <td>1</td>\n",
       "      <td>Target_1</td>\n",
       "      <td>1.504354e-05</td>\n",
       "    </tr>\n",
       "    <tr>\n",
       "      <th>13</th>\n",
       "      <td>CC(N)C12CC3CC(CC(C3)C1)C2</td>\n",
       "      <td>MEDFVRQCFNPMIVELAEKTMKEYGEDLKIETNKFAAICTHLEVCF...</td>\n",
       "      <td>4.960</td>\n",
       "      <td>0</td>\n",
       "      <td>Target_10</td>\n",
       "      <td>2.921966e-05</td>\n",
       "    </tr>\n",
       "    <tr>\n",
       "      <th>14</th>\n",
       "      <td>C=CC(=O)NCCOc1cc(C(OCCS(C)(=O)=O)c2ccccc2)cc2[...</td>\n",
       "      <td>MAAVILESIFLKRSQQKKKTSPLNFKKRLFLLTVHKLSYYEYDFER...</td>\n",
       "      <td>7.160</td>\n",
       "      <td>1</td>\n",
       "      <td>Target_2</td>\n",
       "      <td>9.999903e-01</td>\n",
       "    </tr>\n",
       "    <tr>\n",
       "      <th>15</th>\n",
       "      <td>C=CCN(CC#CC)C(=O)[C@@]1(c2ccc3c(c2)OCO3)C[C@H]1CN</td>\n",
       "      <td>MLLARMNPQVQPENNGADTGPEQPLRARKTAELLVVKERNGVQCLL...</td>\n",
       "      <td>7.820</td>\n",
       "      <td>1</td>\n",
       "      <td>Target_3</td>\n",
       "      <td>1.000000e+00</td>\n",
       "    </tr>\n",
       "    <tr>\n",
       "      <th>16</th>\n",
       "      <td>CCc1cc(NCc2ccccc2SC)c(O)nc1C</td>\n",
       "      <td>PISPIETVPVKLKPGMDGPKVKQWPLTEEKIKALVEICTEMEKEGK...</td>\n",
       "      <td>5.820</td>\n",
       "      <td>0</td>\n",
       "      <td>Target_11</td>\n",
       "      <td>1.022172e-10</td>\n",
       "    </tr>\n",
       "    <tr>\n",
       "      <th>17</th>\n",
       "      <td>COc1ccc(S(=O)(=O)N(CC(C)C)C[C@@H](O)[C@H](Cc2c...</td>\n",
       "      <td>PQITLWQRPFVTIKIEGQLKEALLDTGADDTVLEEMNLPGRWKPKM...</td>\n",
       "      <td>9.890</td>\n",
       "      <td>1</td>\n",
       "      <td>Target_8</td>\n",
       "      <td>9.999996e-01</td>\n",
       "    </tr>\n",
       "    <tr>\n",
       "      <th>18</th>\n",
       "      <td>CCOc1cc2ncnc(Nc3ccc(Oc4ccc(C)nc4)c(Cl)c3)c2cc1...</td>\n",
       "      <td>MRPSGTAGAALLALLAALCPASRALEEKKVCQGTSNKLTQLGTFED...</td>\n",
       "      <td>7.655</td>\n",
       "      <td>1</td>\n",
       "      <td>Target_12</td>\n",
       "      <td>9.999996e-01</td>\n",
       "    </tr>\n",
       "    <tr>\n",
       "      <th>19</th>\n",
       "      <td>Nc1ncnc2c1c(-c1ccc(Oc3ccccc3)cc1)cn2[C@H]1CC[C...</td>\n",
       "      <td>MPALARDGGQLPLLVVFSAMIFGTITNQDLPVIKCVLINHKNNDSS...</td>\n",
       "      <td>7.800</td>\n",
       "      <td>1</td>\n",
       "      <td>Target_1</td>\n",
       "      <td>4.378830e-07</td>\n",
       "    </tr>\n",
       "  </tbody>\n",
       "</table>\n",
       "</div>"
      ],
      "text/plain": [
       "                                               SMILES  \\\n",
       "0          COc1ccc(C2=C(c3c[nH]c4ccccc34)C(=O)NC2)cc1   \n",
       "1   Nc1ncnc2c1c(-c1ccc(Oc3ccccc3)cc1)nn2[C@@H]1CCC...   \n",
       "2   C=CC(=O)N1CCC[C@@H](n2nc(CCCOc3ccccc3)c3c(N)nc...   \n",
       "3   CN1[C@@H]2CC[C@H]1C[C@@H](NC(c1ccc(Cl)cc1)c1cc...   \n",
       "4   N#CN[C@H]1C[C@@H](NS(=O)(=O)c2cccc(F)c2)c2ccc(...   \n",
       "5   Oc1ccc2c(c1)CCCC(C1CCC(O)CC1)=C2c1ccc(O[C@H]2C...   \n",
       "6   CC(C)CCn1cc2c(nc(NC(=O)Cc3ccc(F)cc3)n3nc(-c4cc...   \n",
       "7   CCC(=O)N1CC[C@@H](Cc2ccc(F)cc2)C[C@@H]1CCCNC(=...   \n",
       "8   COc1ccc(S(=O)(=O)N(CC(C)C)C[C@@H](O)[C@H](Cc2c...   \n",
       "9   N#C[C@H]1C[C@@H](O)CC[C@@H]1n1cc(C(N)=O)c(Nc2c...   \n",
       "10  Cc1nc2cnc3ccc(-c4cc(Cl)c(O)c(Cl)c4)cc3c2n1C1CC...   \n",
       "11  CN(C)C1CCN(c2ncc(-c3cnc4[nH]ccc4n3)c(N[C@H]3CC...   \n",
       "12  O=C(CCCCCCN1C/C=C/CCOc2cccc(c2)-c2ccnc(n2)Nc2c...   \n",
       "13                          CC(N)C12CC3CC(CC(C3)C1)C2   \n",
       "14  C=CC(=O)NCCOc1cc(C(OCCS(C)(=O)=O)c2ccccc2)cc2[...   \n",
       "15  C=CCN(CC#CC)C(=O)[C@@]1(c2ccc3c(c2)OCO3)C[C@H]1CN   \n",
       "16                       CCc1cc(NCc2ccccc2SC)c(O)nc1C   \n",
       "17  COc1ccc(S(=O)(=O)N(CC(C)C)C[C@@H](O)[C@H](Cc2c...   \n",
       "18  CCOc1cc2ncnc(Nc3ccc(Oc4ccc(C)nc4)c(Cl)c3)c2cc1...   \n",
       "19  Nc1ncnc2c1c(-c1ccc(Oc3ccccc3)cc1)cn2[C@H]1CC[C...   \n",
       "\n",
       "                                             sequence  pchembl_value  label  \\\n",
       "0   MPALARDGGQLPLLVVFSAMIFGTITNQDLPVIKCVLINHKNNDSS...          5.000      0   \n",
       "1   MAAVILESIFLKRSQQKKKTSPLNFKKRLFLLTVHKLSYYEYDFER...          8.050      1   \n",
       "2   MAAVILESIFLKRSQQKKKTSPLNFKKRLFLLTVHKLSYYEYDFER...          7.650      1   \n",
       "3   MLLARMNPQVQPENNGADTGPEQPLRARKTAELLVVKERNGVQCLL...          5.120      0   \n",
       "4   MQYLNIKEDCNAMAFCAKMRSSKKTEVNLEAPEPGVEVIFYLSDRE...          5.570      0   \n",
       "5   MTMTLHTKASGMALLHQIQGNELEPLNRPQLKIPLERPLGEVYLDS...          8.310      1   \n",
       "6   MLLETQDALYVALELVIAALSVAGNVLVCAAVGTANTLQTPTNYFL...          5.300      0   \n",
       "7   METTPLNSQKQLSACEDGEDCQENGVLQKVVPTPGDKVESGQISNG...          6.650      0   \n",
       "8   PQITLWQRPFVTIKIEGQLKEALLDTGADDTVLEEMNLPGRWKPKM...          9.420      1   \n",
       "9   MGMACLTMTEMEGTSTSSIYQNGDISGNANSMKQIDPVLQVYLYHS...          8.520      1   \n",
       "10  MGMACLTMTEMEGTSTSSIYQNGDISGNANSMKQIDPVLQVYLYHS...          7.820      1   \n",
       "11  MGMACLTMTEMEGTSTSSIYQNGDISGNANSMKQIDPVLQVYLYHS...          9.860      1   \n",
       "12  MPALARDGGQLPLLVVFSAMIFGTITNQDLPVIKCVLINHKNNDSS...          7.060      1   \n",
       "13  MEDFVRQCFNPMIVELAEKTMKEYGEDLKIETNKFAAICTHLEVCF...          4.960      0   \n",
       "14  MAAVILESIFLKRSQQKKKTSPLNFKKRLFLLTVHKLSYYEYDFER...          7.160      1   \n",
       "15  MLLARMNPQVQPENNGADTGPEQPLRARKTAELLVVKERNGVQCLL...          7.820      1   \n",
       "16  PISPIETVPVKLKPGMDGPKVKQWPLTEEKIKALVEICTEMEKEGK...          5.820      0   \n",
       "17  PQITLWQRPFVTIKIEGQLKEALLDTGADDTVLEEMNLPGRWKPKM...          9.890      1   \n",
       "18  MRPSGTAGAALLALLAALCPASRALEEKKVCQGTSNKLTQLGTFED...          7.655      1   \n",
       "19  MPALARDGGQLPLLVVFSAMIFGTITNQDLPVIKCVLINHKNNDSS...          7.800      1   \n",
       "\n",
       "   target_idx    pred_score  \n",
       "0    Target_1  8.380084e-08  \n",
       "1    Target_2  1.000000e+00  \n",
       "2    Target_2  9.999826e-01  \n",
       "3    Target_3  1.483947e-10  \n",
       "4    Target_4  2.556997e-11  \n",
       "5    Target_5  9.997373e-01  \n",
       "6    Target_6  1.417815e-08  \n",
       "7    Target_7  1.204301e-04  \n",
       "8    Target_8  9.999999e-01  \n",
       "9    Target_9  1.000000e+00  \n",
       "10   Target_9  9.991323e-01  \n",
       "11   Target_9  9.999996e-01  \n",
       "12   Target_1  1.504354e-05  \n",
       "13  Target_10  2.921966e-05  \n",
       "14   Target_2  9.999903e-01  \n",
       "15   Target_3  1.000000e+00  \n",
       "16  Target_11  1.022172e-10  \n",
       "17   Target_8  9.999996e-01  \n",
       "18  Target_12  9.999996e-01  \n",
       "19   Target_1  4.378830e-07  "
      ]
     },
     "execution_count": 46,
     "metadata": {},
     "output_type": "execute_result"
    }
   ],
   "source": [
    "final_res_df"
   ]
  },
  {
   "cell_type": "code",
   "execution_count": null,
   "metadata": {},
   "outputs": [],
   "source": []
  },
  {
   "cell_type": "code",
   "execution_count": null,
   "metadata": {},
   "outputs": [],
   "source": []
  },
  {
   "cell_type": "code",
   "execution_count": null,
   "metadata": {},
   "outputs": [],
   "source": []
  },
  {
   "cell_type": "code",
   "execution_count": null,
   "metadata": {},
   "outputs": [],
   "source": []
  },
  {
   "cell_type": "code",
   "execution_count": null,
   "metadata": {},
   "outputs": [],
   "source": []
  }
 ],
 "metadata": {
  "kernelspec": {
   "display_name": "KPGT",
   "language": "python",
   "name": "python3"
  },
  "language_info": {
   "codemirror_mode": {
    "name": "ipython",
    "version": 3
   },
   "file_extension": ".py",
   "mimetype": "text/x-python",
   "name": "python",
   "nbconvert_exporter": "python",
   "pygments_lexer": "ipython3",
   "version": "undefined.undefined.undefined"
  }
 },
 "nbformat": 4,
 "nbformat_minor": 2
}
